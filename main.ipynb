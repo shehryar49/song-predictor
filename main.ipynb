{
  "nbformat": 4,
  "nbformat_minor": 0,
  "metadata": {
    "colab": {
      "provenance": []
    },
    "kernelspec": {
      "name": "python3",
      "display_name": "Python 3"
    },
    "language_info": {
      "name": "python"
    }
  },
  "cells": [
    {
      "cell_type": "code",
      "execution_count": 2,
      "metadata": {
        "id": "J9EpIftIaUQ-"
      },
      "outputs": [],
      "source": [
        "import numpy as np\n",
        "import librosa\n",
        "import librosa.display\n",
        "import IPython.display as ipd\n",
        "import matplotlib.pyplot as plt\n",
        "from matplotlib import cm\n",
        "import os\n",
        "import soundfile as sf\n",
        "import tensorflow as tf\n",
        "from tensorflow.keras.models import Sequential\n",
        "from tensorflow.keras.layers import Dense, Dropout, BatchNormalization, Input\n",
        "from keras.optimizers import Adam\n",
        "from keras.callbacks import LearningRateScheduler\n",
        "\n"
      ]
    },
    {
      "cell_type": "code",
      "source": [
        "# Create plot\n",
        "song1 = '/content/drive/MyDrive/dataset/training/georgian-disco/out1000.mp3'\n",
        "song2 = '/content/drive/MyDrive/dataset/training/georgian-disco/out2000.mp3'\n",
        "song3 = '/content/drive/MyDrive/dataset/training/somebody-i-used-to-know/out000.mp3'\n",
        "y1,sr1 = librosa.load(song1)\n",
        "y2,sr2 = librosa.load(song2)\n",
        "y3,sr3 = librosa.load(song3)\n",
        "# Plot waveforms\n",
        "#librosa.display.waveshow(y=y1,sr=sr1)\n",
        "#librosa.display.waveshow(y=y2,sr=sr2)\n",
        "#librosa.display.waveshow(y=y3,sr=sr3)\n",
        "\n",
        "# plot spectrogram\n",
        "FRAME_SIZE = 2048\n",
        "HOP_SIZE = 512\n",
        "\n",
        "#y1_stft = librosa.stft(y1,n_fft=FRAME_SIZE,hop_length=HOP_SIZE)\n",
        "#y1_spect = np.abs(y1_stft)**2\n",
        "\n",
        "#y2_stft = librosa.stft(y2,n_fft=FRAME_SIZE,hop_length=HOP_SIZE)\n",
        "#y2_spect = np.abs(y2_stft)**2\n",
        "\n",
        "#y3_stft = librosa.stft(y3,n_fft=FRAME_SIZE,hop_length=HOP_SIZE)\n",
        "#y3_spect = np.abs(y3_stft)**2\n",
        "\n",
        "\n",
        "#librosa.display.specshow(y3_spect,sr=sr3,hop_length=HOP_SIZE,x_axis=\"time\",y_axis=\"log\")\n",
        "#plt.colorbar(format='%+2.f')\n",
        "\n",
        "# plot mfccs\n",
        "#mfcc1 = librosa.feature.mfcc(y=y1,n_mfcc=13,sr=sr1)\n",
        "#mfcc2 = librosa.feature.mfcc(y=y2,n_mfcc=13,sr=sr2)\n",
        "mfcc3 = librosa.feature.mfcc(y=y3,n_mfcc=13,sr=sr3)\n",
        "\n",
        "librosa.display.specshow(mfcc3,x_axis=\"time\",sr=sr3)\n",
        "plt.colorbar(format='%+2.f')\n"
      ],
      "metadata": {
        "colab": {
          "base_uri": "https://localhost:8080/",
          "height": 471
        },
        "id": "6_sYVITTvijL",
        "outputId": "f2331883-5157-4fac-cd4d-0bf93c5245c0"
      },
      "execution_count": 17,
      "outputs": [
        {
          "output_type": "execute_result",
          "data": {
            "text/plain": [
              "<matplotlib.colorbar.Colorbar at 0x7970a30e6200>"
            ]
          },
          "metadata": {},
          "execution_count": 17
        },
        {
          "output_type": "display_data",
          "data": {
            "text/plain": [
              "<Figure size 640x480 with 2 Axes>"
            ],
            "image/png": "[encoded data removed]"
          },
          "metadata": {}
        }
      ]
    },
    {
      "cell_type": "code",
      "source": [
        "count = 0\n",
        "inputs = np.zeros((172,15236))\n",
        "labels = []\n",
        "k = 0\n",
        "label_map = {}\n",
        "base_path = '/content/drive/MyDrive/dataset/training/' # 'dataset/training/'\n",
        "for song_folder in os.listdir(base_path):\n",
        "    # song_folder will be used as class name/label\n",
        "    for song in os.listdir(base_path+song_folder+'/'):\n",
        "        song_path = base_path+song_folder+'/'+song\n",
        "        signal,sr = librosa.load(song_path)\n",
        "        signal = np.resize(signal,600000)\n",
        "        print(song_path)\n",
        "        mfcc = librosa.feature.mfcc(y=signal,n_mfcc=13,sr=sr)\n",
        "        inputs[count] = mfcc.flatten()\n",
        "        labels.append(k)\n",
        "        label_map[song_folder] = k\n",
        "        count+=1\n",
        "    k += 1\n",
        "print(count)"
      ],
      "metadata": {
        "colab": {
          "base_uri": "https://localhost:8080/"
        },
        "id": "WTLbzO9ZcTtm",
        "outputId": "631b3f65-7f00-48fd-d877-f3a9cee19a79"
      },
      "execution_count": 34,
      "outputs": [
        {
          "output_type": "stream",
          "name": "stdout",
          "text": [
            "/content/drive/MyDrive/dataset/training/georgian-disco/out1004.mp3\n",
            "/content/drive/MyDrive/dataset/training/georgian-disco/out3005.mp3\n",
            "/content/drive/MyDrive/dataset/training/georgian-disco/out4003.mp3\n",
            "/content/drive/MyDrive/dataset/training/georgian-disco/out3002.mp3\n",
            "/content/drive/MyDrive/dataset/training/georgian-disco/out5002.mp3\n",
            "/content/drive/MyDrive/dataset/training/georgian-disco/out2001.mp3\n",
            "/content/drive/MyDrive/dataset/training/georgian-disco/out3003.mp3\n",
            "/content/drive/MyDrive/dataset/training/georgian-disco/out5000.mp3\n",
            "/content/drive/MyDrive/dataset/training/georgian-disco/out1000.mp3\n",
            "/content/drive/MyDrive/dataset/training/georgian-disco/out2003.mp3\n",
            "/content/drive/MyDrive/dataset/training/georgian-disco/out3000.mp3\n",
            "/content/drive/MyDrive/dataset/training/georgian-disco/out4000.mp3\n",
            "/content/drive/MyDrive/dataset/training/georgian-disco/out3001.mp3\n",
            "/content/drive/MyDrive/dataset/training/georgian-disco/out5001.mp3\n",
            "/content/drive/MyDrive/dataset/training/georgian-disco/out2000.mp3\n",
            "/content/drive/MyDrive/dataset/training/georgian-disco/out2002.mp3\n",
            "/content/drive/MyDrive/dataset/training/georgian-disco/out1001.mp3\n",
            "/content/drive/MyDrive/dataset/training/georgian-disco/out1002.mp3\n",
            "/content/drive/MyDrive/dataset/training/georgian-disco/out4001.mp3\n",
            "/content/drive/MyDrive/dataset/training/georgian-disco/out1005.mp3\n",
            "/content/drive/MyDrive/dataset/training/georgian-disco/out1003.mp3\n",
            "/content/drive/MyDrive/dataset/training/georgian-disco/out4002.mp3\n",
            "/content/drive/MyDrive/dataset/training/dancing/out5000.mp3\n",
            "/content/drive/MyDrive/dataset/training/dancing/out3004.mp3\n",
            "/content/drive/MyDrive/dataset/training/dancing/out1004.mp3\n",
            "/content/drive/MyDrive/dataset/training/dancing/out3005.mp3\n",
            "/content/drive/MyDrive/dataset/training/dancing/out2005.mp3\n",
            "/content/drive/MyDrive/dataset/training/dancing/out2001.mp3\n",
            "/content/drive/MyDrive/dataset/training/dancing/out3003.mp3\n",
            "/content/drive/MyDrive/dataset/training/dancing/out3007.mp3\n",
            "/content/drive/MyDrive/dataset/training/dancing/out5002.mp3\n",
            "/content/drive/MyDrive/dataset/training/dancing/out2002.mp3\n",
            "/content/drive/MyDrive/dataset/training/dancing/out2003.mp3\n",
            "/content/drive/MyDrive/dataset/training/dancing/out5005.mp3\n",
            "/content/drive/MyDrive/dataset/training/dancing/out3000.mp3\n",
            "/content/drive/MyDrive/dataset/training/dancing/out3002.mp3\n",
            "/content/drive/MyDrive/dataset/training/dancing/out3001.mp3\n",
            "/content/drive/MyDrive/dataset/training/dancing/out2000.mp3\n",
            "/content/drive/MyDrive/dataset/training/dancing/out1003.mp3\n",
            "/content/drive/MyDrive/dataset/training/dancing/out5003.mp3\n",
            "/content/drive/MyDrive/dataset/training/dancing/out5001.mp3\n",
            "/content/drive/MyDrive/dataset/training/dancing/out1001.mp3\n",
            "/content/drive/MyDrive/dataset/training/dancing/out5004.mp3\n",
            "/content/drive/MyDrive/dataset/training/dancing/out2004.mp3\n",
            "/content/drive/MyDrive/dataset/training/dancing/out1002.mp3\n",
            "/content/drive/MyDrive/dataset/training/dancing/out3006.mp3\n",
            "/content/drive/MyDrive/dataset/training/shadow-lady/out3005.mp3\n",
            "/content/drive/MyDrive/dataset/training/shadow-lady/out4002.mp3\n",
            "/content/drive/MyDrive/dataset/training/shadow-lady/out4004.mp3\n",
            "/content/drive/MyDrive/dataset/training/shadow-lady/out4000.mp3\n",
            "/content/drive/MyDrive/dataset/training/shadow-lady/out3003.mp3\n",
            "/content/drive/MyDrive/dataset/training/shadow-lady/out4005.mp3\n",
            "/content/drive/MyDrive/dataset/training/shadow-lady/out3007.mp3\n",
            "/content/drive/MyDrive/dataset/training/shadow-lady/out1000.mp3\n",
            "/content/drive/MyDrive/dataset/training/shadow-lady/out1006.mp3\n",
            "/content/drive/MyDrive/dataset/training/shadow-lady/out2002.mp3\n",
            "/content/drive/MyDrive/dataset/training/shadow-lady/out1004.mp3\n",
            "/content/drive/MyDrive/dataset/training/shadow-lady/out3008.mp3\n",
            "/content/drive/MyDrive/dataset/training/shadow-lady/out4003.mp3\n",
            "/content/drive/MyDrive/dataset/training/shadow-lady/out3004.mp3\n",
            "/content/drive/MyDrive/dataset/training/shadow-lady/out2000.mp3\n",
            "/content/drive/MyDrive/dataset/training/shadow-lady/out1005.mp3\n",
            "/content/drive/MyDrive/dataset/training/shadow-lady/out1003.mp3\n",
            "/content/drive/MyDrive/dataset/training/shadow-lady/out1002.mp3\n",
            "/content/drive/MyDrive/dataset/training/shadow-lady/out1001.mp3\n",
            "/content/drive/MyDrive/dataset/training/shadow-lady/out2001.mp3\n",
            "/content/drive/MyDrive/dataset/training/shadow-lady/out3002.mp3\n",
            "/content/drive/MyDrive/dataset/training/shadow-lady/out2003.mp3\n",
            "/content/drive/MyDrive/dataset/training/shadow-lady/out3000.mp3\n",
            "/content/drive/MyDrive/dataset/training/shadow-lady/out4001.mp3\n",
            "/content/drive/MyDrive/dataset/training/shadow-lady/out3009.mp3\n",
            "/content/drive/MyDrive/dataset/training/shadow-lady/out3001.mp3\n",
            "/content/drive/MyDrive/dataset/training/dadada/out1006.mp3\n",
            "/content/drive/MyDrive/dataset/training/dadada/out3004.mp3\n",
            "/content/drive/MyDrive/dataset/training/dadada/out2002.mp3\n",
            "/content/drive/MyDrive/dataset/training/dadada/out3005.mp3\n",
            "/content/drive/MyDrive/dataset/training/dadada/out1004.mp3\n",
            "/content/drive/MyDrive/dataset/training/dadada/out2005.mp3\n",
            "/content/drive/MyDrive/dataset/training/dadada/out2001.mp3\n",
            "/content/drive/MyDrive/dataset/training/dadada/out4005.mp3\n",
            "/content/drive/MyDrive/dataset/training/dadada/out3003.mp3\n",
            "/content/drive/MyDrive/dataset/training/dadada/out1000.mp3\n",
            "/content/drive/MyDrive/dataset/training/dadada/out4003.mp3\n",
            "/content/drive/MyDrive/dataset/training/dadada/out4002.mp3\n",
            "/content/drive/MyDrive/dataset/training/dadada/out1001.mp3\n",
            "/content/drive/MyDrive/dataset/training/dadada/out1002.mp3\n",
            "/content/drive/MyDrive/dataset/training/dadada/out4004.mp3\n",
            "/content/drive/MyDrive/dataset/training/dadada/out4000.mp3\n",
            "/content/drive/MyDrive/dataset/training/dadada/out4007.mp3\n",
            "/content/drive/MyDrive/dataset/training/dadada/out4006.mp3\n",
            "/content/drive/MyDrive/dataset/training/dadada/out3002.mp3\n",
            "/content/drive/MyDrive/dataset/training/dadada/out3001.mp3\n",
            "/content/drive/MyDrive/dataset/training/dadada/out2000.mp3\n",
            "/content/drive/MyDrive/dataset/training/dadada/out1005.mp3\n",
            "/content/drive/MyDrive/dataset/training/dadada/out1003.mp3\n",
            "/content/drive/MyDrive/dataset/training/dadada/out2004.mp3\n",
            "/content/drive/MyDrive/dataset/training/dadada/out2003.mp3\n",
            "/content/drive/MyDrive/dataset/training/dadada/out4001.mp3\n",
            "/content/drive/MyDrive/dataset/training/metamorphosis/out3002.mp3\n",
            "/content/drive/MyDrive/dataset/training/metamorphosis/out1001.mp3\n",
            "/content/drive/MyDrive/dataset/training/metamorphosis/out1002.mp3\n",
            "/content/drive/MyDrive/dataset/training/metamorphosis/out2001.mp3\n",
            "/content/drive/MyDrive/dataset/training/metamorphosis/out3003.mp3\n",
            "/content/drive/MyDrive/dataset/training/metamorphosis/out3004.mp3\n",
            "/content/drive/MyDrive/dataset/training/metamorphosis/out3005.mp3\n",
            "/content/drive/MyDrive/dataset/training/metamorphosis/out1000.mp3\n",
            "/content/drive/MyDrive/dataset/training/metamorphosis/out3000.mp3\n",
            "/content/drive/MyDrive/dataset/training/metamorphosis/out2000.mp3\n",
            "/content/drive/MyDrive/dataset/training/metamorphosis/out1003.mp3\n",
            "/content/drive/MyDrive/dataset/training/La-Espada/out6002.mp3\n",
            "/content/drive/MyDrive/dataset/training/La-Espada/out2002.mp3\n",
            "/content/drive/MyDrive/dataset/training/La-Espada/out3005.mp3\n",
            "/content/drive/MyDrive/dataset/training/La-Espada/out6004.mp3\n",
            "/content/drive/MyDrive/dataset/training/La-Espada/out2001.mp3\n",
            "/content/drive/MyDrive/dataset/training/La-Espada/out4005.mp3\n",
            "/content/drive/MyDrive/dataset/training/La-Espada/out3003.mp3\n",
            "/content/drive/MyDrive/dataset/training/La-Espada/out1000.mp3\n",
            "/content/drive/MyDrive/dataset/training/La-Espada/out5000.mp3\n",
            "/content/drive/MyDrive/dataset/training/La-Espada/out4003.mp3\n",
            "/content/drive/MyDrive/dataset/training/La-Espada/out3004.mp3\n",
            "/content/drive/MyDrive/dataset/training/La-Espada/out4004.mp3\n",
            "/content/drive/MyDrive/dataset/training/La-Espada/out4006.mp3\n",
            "/content/drive/MyDrive/dataset/training/La-Espada/out4002.mp3\n",
            "/content/drive/MyDrive/dataset/training/La-Espada/out3002.mp3\n",
            "/content/drive/MyDrive/dataset/training/La-Espada/out5002.mp3\n",
            "/content/drive/MyDrive/dataset/training/La-Espada/out4000.mp3\n",
            "/content/drive/MyDrive/dataset/training/La-Espada/out5003.mp3\n",
            "/content/drive/MyDrive/dataset/training/La-Espada/out3001.mp3\n",
            "/content/drive/MyDrive/dataset/training/La-Espada/out5001.mp3\n",
            "/content/drive/MyDrive/dataset/training/La-Espada/out5004.mp3\n",
            "/content/drive/MyDrive/dataset/training/La-Espada/out2004.mp3\n",
            "/content/drive/MyDrive/dataset/training/La-Espada/out3000.mp3\n",
            "/content/drive/MyDrive/dataset/training/La-Espada/out4001.mp3\n",
            "/content/drive/MyDrive/dataset/training/La-Espada/out6005.mp3\n",
            "/content/drive/MyDrive/dataset/training/La-Espada/out6003.mp3\n",
            "/content/drive/MyDrive/dataset/training/La-Espada/out2000.mp3\n",
            "/content/drive/MyDrive/dataset/training/La-Espada/out2003.mp3\n",
            "/content/drive/MyDrive/dataset/training/La-Espada/out6001.mp3\n",
            "/content/drive/MyDrive/dataset/training/La-Espada/out6000.mp3\n",
            "/content/drive/MyDrive/dataset/training/somebody-i-used-to-know/out000.mp3\n",
            "/content/drive/MyDrive/dataset/training/somebody-i-used-to-know/out1006.mp3\n",
            "/content/drive/MyDrive/dataset/training/somebody-i-used-to-know/out004.mp3\n",
            "/content/drive/MyDrive/dataset/training/somebody-i-used-to-know/out005.mp3\n",
            "/content/drive/MyDrive/dataset/training/somebody-i-used-to-know/out3004.mp3\n",
            "/content/drive/MyDrive/dataset/training/somebody-i-used-to-know/out2007.mp3\n",
            "/content/drive/MyDrive/dataset/training/somebody-i-used-to-know/out1004.mp3\n",
            "/content/drive/MyDrive/dataset/training/somebody-i-used-to-know/out1008.mp3\n",
            "/content/drive/MyDrive/dataset/training/somebody-i-used-to-know/out3005.mp3\n",
            "/content/drive/MyDrive/dataset/training/somebody-i-used-to-know/out006.mp3\n",
            "/content/drive/MyDrive/dataset/training/somebody-i-used-to-know/out1001.mp3\n",
            "/content/drive/MyDrive/dataset/training/somebody-i-used-to-know/out007.mp3\n",
            "/content/drive/MyDrive/dataset/training/somebody-i-used-to-know/out1002.mp3\n",
            "/content/drive/MyDrive/dataset/training/somebody-i-used-to-know/out003.mp3\n",
            "/content/drive/MyDrive/dataset/training/somebody-i-used-to-know/out2005.mp3\n",
            "/content/drive/MyDrive/dataset/training/somebody-i-used-to-know/out2001.mp3\n",
            "/content/drive/MyDrive/dataset/training/somebody-i-used-to-know/out3006.mp3\n",
            "/content/drive/MyDrive/dataset/training/somebody-i-used-to-know/out3003.mp3\n",
            "/content/drive/MyDrive/dataset/training/somebody-i-used-to-know/out2008.mp3\n",
            "/content/drive/MyDrive/dataset/training/somebody-i-used-to-know/out3007.mp3\n",
            "/content/drive/MyDrive/dataset/training/somebody-i-used-to-know/out1000.mp3\n",
            "/content/drive/MyDrive/dataset/training/somebody-i-used-to-know/out2003.mp3\n",
            "/content/drive/MyDrive/dataset/training/somebody-i-used-to-know/out3000.mp3\n",
            "/content/drive/MyDrive/dataset/training/somebody-i-used-to-know/out3001.mp3\n",
            "/content/drive/MyDrive/dataset/training/somebody-i-used-to-know/out001.mp3\n",
            "/content/drive/MyDrive/dataset/training/somebody-i-used-to-know/out2000.mp3\n",
            "/content/drive/MyDrive/dataset/training/somebody-i-used-to-know/out1007.mp3\n",
            "/content/drive/MyDrive/dataset/training/somebody-i-used-to-know/out1003.mp3\n",
            "/content/drive/MyDrive/dataset/training/somebody-i-used-to-know/out3002.mp3\n",
            "/content/drive/MyDrive/dataset/training/somebody-i-used-to-know/out1005.mp3\n",
            "/content/drive/MyDrive/dataset/training/somebody-i-used-to-know/out2006.mp3\n",
            "/content/drive/MyDrive/dataset/training/somebody-i-used-to-know/out002.mp3\n",
            "/content/drive/MyDrive/dataset/training/somebody-i-used-to-know/out2004.mp3\n",
            "172\n"
          ]
        }
      ]
    },
    {
      "cell_type": "code",
      "source": [
        "print(count)\n",
        "print(inputs.shape)\n",
        "labels = np.array(labels)\n",
        "print(labels)"
      ],
      "metadata": {
        "colab": {
          "base_uri": "https://localhost:8080/"
        },
        "id": "djLavAmAhpQa",
        "outputId": "56c8c98e-2516-4e5b-ab5b-9bc550d790ea"
      },
      "execution_count": 35,
      "outputs": [
        {
          "output_type": "stream",
          "name": "stdout",
          "text": [
            "172\n",
            "(172, 15236)\n",
            "[0 0 0 0 0 0 0 0 0 0 0 0 0 0 0 0 0 0 0 0 0 0 1 1 1 1 1 1 1 1 1 1 1 1 1 1 1\n",
            " 1 1 1 1 1 1 1 1 1 2 2 2 2 2 2 2 2 2 2 2 2 2 2 2 2 2 2 2 2 2 2 2 2 2 2 3 3\n",
            " 3 3 3 3 3 3 3 3 3 3 3 3 3 3 3 3 3 3 3 3 3 3 3 3 4 4 4 4 4 4 4 4 4 4 4 5 5\n",
            " 5 5 5 5 5 5 5 5 5 5 5 5 5 5 5 5 5 5 5 5 5 5 5 5 5 5 5 5 6 6 6 6 6 6 6 6 6\n",
            " 6 6 6 6 6 6 6 6 6 6 6 6 6 6 6 6 6 6 6 6 6 6 6 6]\n"
          ]
        }
      ]
    },
    {
      "cell_type": "code",
      "source": [
        "model = Sequential([\n",
        "        Input(shape=(inputs.shape[1],)), #creates input layer, no of nodes = no of inputs = 179\n",
        "        Dense(256, activation='relu'), #1st hidden layer with 256 neurons\n",
        "        BatchNormalization(), #normalize the output value so that input to next layer is normalized\n",
        "        # Dropout(0.3), #this is to prevent overfitting but my results are way better without it atm so fk dis - will use if i have problems on test data\n",
        "        Dense(128, activation='relu'),\n",
        "        BatchNormalization(),\n",
        "        # Dropout(0.3),\n",
        "        Dense(64, activation='relu'),\n",
        "        BatchNormalization(),\n",
        "        # Dropout(0.3),\n",
        "        Dense(len(np.unique(labels)), activation='softmax')\n",
        "    ])"
      ],
      "metadata": {
        "id": "4QNuf-3giAUJ"
      },
      "execution_count": 36,
      "outputs": []
    },
    {
      "cell_type": "code",
      "source": [
        "# Define learning rate scheduler\n",
        "def lr_scheduler(epoch, lr):\n",
        "    if epoch % 10 == 0 and epoch != 0:\n",
        "        lr = lr * 0.9 # decreases the learning rate by a factor of 0.9 every 10 epochs - prevent over stepping\n",
        "    return lr\n",
        "\n",
        "# Implement learning rate scheduler\n",
        "lr_scheduler_callback = LearningRateScheduler(lr_scheduler)"
      ],
      "metadata": {
        "id": "dL8BMPALinlL"
      },
      "execution_count": 37,
      "outputs": []
    },
    {
      "cell_type": "code",
      "source": [
        "# Implement early stopping\n",
        "early_stopping = tf.keras.callbacks.EarlyStopping(\n",
        "    monitor='val_loss',\n",
        "    patience=10, #if 'val_loss' does not improve in 10 iterations then stop\n",
        "    restore_best_weights=True # use best found weights\n",
        ")"
      ],
      "metadata": {
        "id": "8Ics6U0SjBzS"
      },
      "execution_count": 38,
      "outputs": []
    },
    {
      "cell_type": "code",
      "source": [
        "# Compile the model\n",
        "model.compile(loss='sparse_categorical_crossentropy',#use 0/1 (fancy name sem thing)\n",
        "              optimizer=Adam(), # adam optimizer - instead of sgd for classification - sgd is better for regression\n",
        "              metrics=['accuracy']) , # print accuracy after fixed interval"
      ],
      "metadata": {
        "colab": {
          "base_uri": "https://localhost:8080/"
        },
        "id": "qxvZOFysjHol",
        "outputId": "678d91bb-72d5-4c9e-ea7f-5a33e926c86d"
      },
      "execution_count": 39,
      "outputs": [
        {
          "output_type": "execute_result",
          "data": {
            "text/plain": [
              "(None,)"
            ]
          },
          "metadata": {},
          "execution_count": 39
        }
      ]
    },
    {
      "cell_type": "code",
      "source": [
        "# Train the model\n",
        "history = model.fit(inputs, # inputs\n",
        "                    labels, # expected outputs\n",
        "                    epochs=100, # max number of times to traverse over training data for learning\n",
        "                    batch_size=32, # give inputs in batches of 32 - why u ask? - see this link: https://youtu.be/TEWy9vZcxW4?list=PLQVvvaa0QuDcjD5BAw2DxE6OF2tius3V3&t=302\n",
        "                    callbacks=[early_stopping, lr_scheduler_callback]) # integrates functions upar wle into our training"
      ],
      "metadata": {
        "colab": {
          "base_uri": "https://localhost:8080/"
        },
        "id": "majCcHc7jQTf",
        "outputId": "47571220-96ab-41b1-e830-668106a9afff"
      },
      "execution_count": 40,
      "outputs": [
        {
          "output_type": "stream",
          "name": "stdout",
          "text": [
            "Epoch 1/100\n",
            "6/6 [==============================] - ETA: 0s - loss: 1.7649 - accuracy: 0.3895"
          ]
        },
        {
          "output_type": "stream",
          "name": "stderr",
          "text": [
            "WARNING:tensorflow:Early stopping conditioned on metric `val_loss` which is not available. Available metrics are: loss,accuracy\n"
          ]
        },
        {
          "output_type": "stream",
          "name": "stdout",
          "text": [
            "\b\b\b\b\b\b\b\b\b\b\b\b\b\b\b\b\b\b\b\b\b\b\b\b\b\b\b\b\b\b\b\b\b\b\b\b\b\b\b\b\b\b\b\b\b\b\b\b\b\b\b\b\b\b\b\b\b\b\b\b\b\b\b\b\b\b\b\b\b\b\b\b\b\b\b\b\b\b\b\b\r6/6 [==============================] - 3s 95ms/step - loss: 1.7649 - accuracy: 0.3895 - lr: 0.0010\n",
            "Epoch 2/100\n",
            "6/6 [==============================] - ETA: 0s - loss: 0.6880 - accuracy: 0.8198"
          ]
        },
        {
          "output_type": "stream",
          "name": "stderr",
          "text": [
            "WARNING:tensorflow:Early stopping conditioned on metric `val_loss` which is not available. Available metrics are: loss,accuracy\n"
          ]
        },
        {
          "output_type": "stream",
          "name": "stdout",
          "text": [
            "\b\b\b\b\b\b\b\b\b\b\b\b\b\b\b\b\b\b\b\b\b\b\b\b\b\b\b\b\b\b\b\b\b\b\b\b\b\b\b\b\b\b\b\b\b\b\b\b\b\b\b\b\b\b\b\b\b\b\b\b\b\b\b\b\b\b\b\b\b\b\b\b\b\b\b\b\b\b\b\b\r6/6 [==============================] - 1s 119ms/step - loss: 0.6880 - accuracy: 0.8198 - lr: 0.0010\n",
            "Epoch 3/100\n",
            "6/6 [==============================] - ETA: 0s - loss: 0.4489 - accuracy: 0.9128"
          ]
        },
        {
          "output_type": "stream",
          "name": "stderr",
          "text": [
            "WARNING:tensorflow:Early stopping conditioned on metric `val_loss` which is not available. Available metrics are: loss,accuracy\n"
          ]
        },
        {
          "output_type": "stream",
          "name": "stdout",
          "text": [
            "\b\b\b\b\b\b\b\b\b\b\b\b\b\b\b\b\b\b\b\b\b\b\b\b\b\b\b\b\b\b\b\b\b\b\b\b\b\b\b\b\b\b\b\b\b\b\b\b\b\b\b\b\b\b\b\b\b\b\b\b\b\b\b\b\b\b\b\b\b\b\b\b\b\b\b\b\b\b\b\b\r6/6 [==============================] - 1s 90ms/step - loss: 0.4489 - accuracy: 0.9128 - lr: 0.0010\n",
            "Epoch 4/100\n",
            "6/6 [==============================] - ETA: 0s - loss: 0.3175 - accuracy: 0.9709"
          ]
        },
        {
          "output_type": "stream",
          "name": "stderr",
          "text": [
            "WARNING:tensorflow:Early stopping conditioned on metric `val_loss` which is not available. Available metrics are: loss,accuracy\n"
          ]
        },
        {
          "output_type": "stream",
          "name": "stdout",
          "text": [
            "\b\b\b\b\b\b\b\b\b\b\b\b\b\b\b\b\b\b\b\b\b\b\b\b\b\b\b\b\b\b\b\b\b\b\b\b\b\b\b\b\b\b\b\b\b\b\b\b\b\b\b\b\b\b\b\b\b\b\b\b\b\b\b\b\b\b\b\b\b\b\b\b\b\b\b\b\b\b\b\b\r6/6 [==============================] - 0s 75ms/step - loss: 0.3175 - accuracy: 0.9709 - lr: 0.0010\n",
            "Epoch 5/100\n",
            "6/6 [==============================] - ETA: 0s - loss: 0.2159 - accuracy: 0.9942"
          ]
        },
        {
          "output_type": "stream",
          "name": "stderr",
          "text": [
            "WARNING:tensorflow:Early stopping conditioned on metric `val_loss` which is not available. Available metrics are: loss,accuracy\n"
          ]
        },
        {
          "output_type": "stream",
          "name": "stdout",
          "text": [
            "\b\b\b\b\b\b\b\b\b\b\b\b\b\b\b\b\b\b\b\b\b\b\b\b\b\b\b\b\b\b\b\b\b\b\b\b\b\b\b\b\b\b\b\b\b\b\b\b\b\b\b\b\b\b\b\b\b\b\b\b\b\b\b\b\b\b\b\b\b\b\b\b\b\b\b\b\b\b\b\b\r6/6 [==============================] - 0s 78ms/step - loss: 0.2159 - accuracy: 0.9942 - lr: 0.0010\n",
            "Epoch 6/100\n",
            "6/6 [==============================] - ETA: 0s - loss: 0.1485 - accuracy: 0.9942"
          ]
        },
        {
          "output_type": "stream",
          "name": "stderr",
          "text": [
            "WARNING:tensorflow:Early stopping conditioned on metric `val_loss` which is not available. Available metrics are: loss,accuracy\n"
          ]
        },
        {
          "output_type": "stream",
          "name": "stdout",
          "text": [
            "\b\b\b\b\b\b\b\b\b\b\b\b\b\b\b\b\b\b\b\b\b\b\b\b\b\b\b\b\b\b\b\b\b\b\b\b\b\b\b\b\b\b\b\b\b\b\b\b\b\b\b\b\b\b\b\b\b\b\b\b\b\b\b\b\b\b\b\b\b\b\b\b\b\b\b\b\b\b\b\b\r6/6 [==============================] - 0s 70ms/step - loss: 0.1485 - accuracy: 0.9942 - lr: 0.0010\n",
            "Epoch 7/100\n",
            "6/6 [==============================] - ETA: 0s - loss: 0.1130 - accuracy: 1.0000"
          ]
        },
        {
          "output_type": "stream",
          "name": "stderr",
          "text": [
            "WARNING:tensorflow:Early stopping conditioned on metric `val_loss` which is not available. Available metrics are: loss,accuracy\n"
          ]
        },
        {
          "output_type": "stream",
          "name": "stdout",
          "text": [
            "\b\b\b\b\b\b\b\b\b\b\b\b\b\b\b\b\b\b\b\b\b\b\b\b\b\b\b\b\b\b\b\b\b\b\b\b\b\b\b\b\b\b\b\b\b\b\b\b\b\b\b\b\b\b\b\b\b\b\b\b\b\b\b\b\b\b\b\b\b\b\b\b\b\b\b\b\b\b\b\b\r6/6 [==============================] - 1s 112ms/step - loss: 0.1130 - accuracy: 1.0000 - lr: 0.0010\n",
            "Epoch 8/100\n",
            "6/6 [==============================] - ETA: 0s - loss: 0.1604 - accuracy: 0.9826"
          ]
        },
        {
          "output_type": "stream",
          "name": "stderr",
          "text": [
            "WARNING:tensorflow:Early stopping conditioned on metric `val_loss` which is not available. Available metrics are: loss,accuracy\n"
          ]
        },
        {
          "output_type": "stream",
          "name": "stdout",
          "text": [
            "\b\b\b\b\b\b\b\b\b\b\b\b\b\b\b\b\b\b\b\b\b\b\b\b\b\b\b\b\b\b\b\b\b\b\b\b\b\b\b\b\b\b\b\b\b\b\b\b\b\b\b\b\b\b\b\b\b\b\b\b\b\b\b\b\b\b\b\b\b\b\b\b\b\b\b\b\b\b\b\b\r6/6 [==============================] - 1s 109ms/step - loss: 0.1604 - accuracy: 0.9826 - lr: 0.0010\n",
            "Epoch 9/100\n",
            "6/6 [==============================] - ETA: 0s - loss: 0.0777 - accuracy: 0.9942"
          ]
        },
        {
          "output_type": "stream",
          "name": "stderr",
          "text": [
            "WARNING:tensorflow:Early stopping conditioned on metric `val_loss` which is not available. Available metrics are: loss,accuracy\n"
          ]
        },
        {
          "output_type": "stream",
          "name": "stdout",
          "text": [
            "\b\b\b\b\b\b\b\b\b\b\b\b\b\b\b\b\b\b\b\b\b\b\b\b\b\b\b\b\b\b\b\b\b\b\b\b\b\b\b\b\b\b\b\b\b\b\b\b\b\b\b\b\b\b\b\b\b\b\b\b\b\b\b\b\b\b\b\b\b\b\b\b\b\b\b\b\b\b\b\b\r6/6 [==============================] - 0s 60ms/step - loss: 0.0777 - accuracy: 0.9942 - lr: 0.0010\n",
            "Epoch 10/100\n",
            "6/6 [==============================] - ETA: 0s - loss: 0.0772 - accuracy: 0.9942"
          ]
        },
        {
          "output_type": "stream",
          "name": "stderr",
          "text": [
            "WARNING:tensorflow:Early stopping conditioned on metric `val_loss` which is not available. Available metrics are: loss,accuracy\n"
          ]
        },
        {
          "output_type": "stream",
          "name": "stdout",
          "text": [
            "\b\b\b\b\b\b\b\b\b\b\b\b\b\b\b\b\b\b\b\b\b\b\b\b\b\b\b\b\b\b\b\b\b\b\b\b\b\b\b\b\b\b\b\b\b\b\b\b\b\b\b\b\b\b\b\b\b\b\b\b\b\b\b\b\b\b\b\b\b\b\b\b\b\b\b\b\b\b\b\b\r6/6 [==============================] - 0s 49ms/step - loss: 0.0772 - accuracy: 0.9942 - lr: 0.0010\n",
            "Epoch 11/100\n",
            "6/6 [==============================] - ETA: 0s - loss: 0.0672 - accuracy: 1.0000"
          ]
        },
        {
          "output_type": "stream",
          "name": "stderr",
          "text": [
            "WARNING:tensorflow:Early stopping conditioned on metric `val_loss` which is not available. Available metrics are: loss,accuracy\n"
          ]
        },
        {
          "output_type": "stream",
          "name": "stdout",
          "text": [
            "\b\b\b\b\b\b\b\b\b\b\b\b\b\b\b\b\b\b\b\b\b\b\b\b\b\b\b\b\b\b\b\b\b\b\b\b\b\b\b\b\b\b\b\b\b\b\b\b\b\b\b\b\b\b\b\b\b\b\b\b\b\b\b\b\b\b\b\b\b\b\b\b\b\b\b\b\b\b\b\b\r6/6 [==============================] - 0s 64ms/step - loss: 0.0672 - accuracy: 1.0000 - lr: 9.0000e-04\n",
            "Epoch 12/100\n",
            "5/6 [========================>.....] - ETA: 0s - loss: 0.0636 - accuracy: 1.0000"
          ]
        },
        {
          "output_type": "stream",
          "name": "stderr",
          "text": [
            "WARNING:tensorflow:Early stopping conditioned on metric `val_loss` which is not available. Available metrics are: loss,accuracy\n"
          ]
        },
        {
          "output_type": "stream",
          "name": "stdout",
          "text": [
            "\b\b\b\b\b\b\b\b\b\b\b\b\b\b\b\b\b\b\b\b\b\b\b\b\b\b\b\b\b\b\b\b\b\b\b\b\b\b\b\b\b\b\b\b\b\b\b\b\b\b\b\b\b\b\b\b\b\b\b\b\b\b\b\b\b\b\b\b\b\b\b\b\b\b\b\b\b\b\b\b\r6/6 [==============================] - 0s 57ms/step - loss: 0.0616 - accuracy: 1.0000 - lr: 9.0000e-04\n",
            "Epoch 13/100\n",
            "6/6 [==============================] - ETA: 0s - loss: 0.0442 - accuracy: 1.0000"
          ]
        },
        {
          "output_type": "stream",
          "name": "stderr",
          "text": [
            "WARNING:tensorflow:Early stopping conditioned on metric `val_loss` which is not available. Available metrics are: loss,accuracy\n"
          ]
        },
        {
          "output_type": "stream",
          "name": "stdout",
          "text": [
            "\b\b\b\b\b\b\b\b\b\b\b\b\b\b\b\b\b\b\b\b\b\b\b\b\b\b\b\b\b\b\b\b\b\b\b\b\b\b\b\b\b\b\b\b\b\b\b\b\b\b\b\b\b\b\b\b\b\b\b\b\b\b\b\b\b\b\b\b\b\b\b\b\b\b\b\b\b\b\b\b\r6/6 [==============================] - 0s 67ms/step - loss: 0.0442 - accuracy: 1.0000 - lr: 9.0000e-04\n",
            "Epoch 14/100\n",
            "6/6 [==============================] - ETA: 0s - loss: 0.0495 - accuracy: 1.0000"
          ]
        },
        {
          "output_type": "stream",
          "name": "stderr",
          "text": [
            "WARNING:tensorflow:Early stopping conditioned on metric `val_loss` which is not available. Available metrics are: loss,accuracy\n"
          ]
        },
        {
          "output_type": "stream",
          "name": "stdout",
          "text": [
            "\b\b\b\b\b\b\b\b\b\b\b\b\b\b\b\b\b\b\b\b\b\b\b\b\b\b\b\b\b\b\b\b\b\b\b\b\b\b\b\b\b\b\b\b\b\b\b\b\b\b\b\b\b\b\b\b\b\b\b\b\b\b\b\b\b\b\b\b\b\b\b\b\b\b\b\b\b\b\b\b\r6/6 [==============================] - 0s 64ms/step - loss: 0.0495 - accuracy: 1.0000 - lr: 9.0000e-04\n",
            "Epoch 15/100\n",
            "6/6 [==============================] - ETA: 0s - loss: 0.0459 - accuracy: 1.0000"
          ]
        },
        {
          "output_type": "stream",
          "name": "stderr",
          "text": [
            "WARNING:tensorflow:Early stopping conditioned on metric `val_loss` which is not available. Available metrics are: loss,accuracy\n"
          ]
        },
        {
          "output_type": "stream",
          "name": "stdout",
          "text": [
            "\b\b\b\b\b\b\b\b\b\b\b\b\b\b\b\b\b\b\b\b\b\b\b\b\b\b\b\b\b\b\b\b\b\b\b\b\b\b\b\b\b\b\b\b\b\b\b\b\b\b\b\b\b\b\b\b\b\b\b\b\b\b\b\b\b\b\b\b\b\b\b\b\b\b\b\b\b\b\b\b\r6/6 [==============================] - 0s 71ms/step - loss: 0.0459 - accuracy: 1.0000 - lr: 9.0000e-04\n",
            "Epoch 16/100\n",
            "6/6 [==============================] - ETA: 0s - loss: 0.0266 - accuracy: 1.0000"
          ]
        },
        {
          "output_type": "stream",
          "name": "stderr",
          "text": [
            "WARNING:tensorflow:Early stopping conditioned on metric `val_loss` which is not available. Available metrics are: loss,accuracy\n"
          ]
        },
        {
          "output_type": "stream",
          "name": "stdout",
          "text": [
            "\b\b\b\b\b\b\b\b\b\b\b\b\b\b\b\b\b\b\b\b\b\b\b\b\b\b\b\b\b\b\b\b\b\b\b\b\b\b\b\b\b\b\b\b\b\b\b\b\b\b\b\b\b\b\b\b\b\b\b\b\b\b\b\b\b\b\b\b\b\b\b\b\b\b\b\b\b\b\b\b\r6/6 [==============================] - 0s 78ms/step - loss: 0.0266 - accuracy: 1.0000 - lr: 9.0000e-04\n",
            "Epoch 17/100\n",
            "6/6 [==============================] - ETA: 0s - loss: 0.0275 - accuracy: 1.0000"
          ]
        },
        {
          "output_type": "stream",
          "name": "stderr",
          "text": [
            "WARNING:tensorflow:Early stopping conditioned on metric `val_loss` which is not available. Available metrics are: loss,accuracy\n"
          ]
        },
        {
          "output_type": "stream",
          "name": "stdout",
          "text": [
            "\b\b\b\b\b\b\b\b\b\b\b\b\b\b\b\b\b\b\b\b\b\b\b\b\b\b\b\b\b\b\b\b\b\b\b\b\b\b\b\b\b\b\b\b\b\b\b\b\b\b\b\b\b\b\b\b\b\b\b\b\b\b\b\b\b\b\b\b\b\b\b\b\b\b\b\b\b\b\b\b\r6/6 [==============================] - 0s 80ms/step - loss: 0.0275 - accuracy: 1.0000 - lr: 9.0000e-04\n",
            "Epoch 18/100\n",
            "6/6 [==============================] - ETA: 0s - loss: 0.0247 - accuracy: 1.0000"
          ]
        },
        {
          "output_type": "stream",
          "name": "stderr",
          "text": [
            "WARNING:tensorflow:Early stopping conditioned on metric `val_loss` which is not available. Available metrics are: loss,accuracy\n"
          ]
        },
        {
          "output_type": "stream",
          "name": "stdout",
          "text": [
            "\b\b\b\b\b\b\b\b\b\b\b\b\b\b\b\b\b\b\b\b\b\b\b\b\b\b\b\b\b\b\b\b\b\b\b\b\b\b\b\b\b\b\b\b\b\b\b\b\b\b\b\b\b\b\b\b\b\b\b\b\b\b\b\b\b\b\b\b\b\b\b\b\b\b\b\b\b\b\b\b\r6/6 [==============================] - 0s 64ms/step - loss: 0.0247 - accuracy: 1.0000 - lr: 9.0000e-04\n",
            "Epoch 19/100\n",
            "6/6 [==============================] - ETA: 0s - loss: 0.0251 - accuracy: 1.0000"
          ]
        },
        {
          "output_type": "stream",
          "name": "stderr",
          "text": [
            "WARNING:tensorflow:Early stopping conditioned on metric `val_loss` which is not available. Available metrics are: loss,accuracy\n"
          ]
        },
        {
          "output_type": "stream",
          "name": "stdout",
          "text": [
            "\b\b\b\b\b\b\b\b\b\b\b\b\b\b\b\b\b\b\b\b\b\b\b\b\b\b\b\b\b\b\b\b\b\b\b\b\b\b\b\b\b\b\b\b\b\b\b\b\b\b\b\b\b\b\b\b\b\b\b\b\b\b\b\b\b\b\b\b\b\b\b\b\b\b\b\b\b\b\b\b\r6/6 [==============================] - 0s 48ms/step - loss: 0.0251 - accuracy: 1.0000 - lr: 9.0000e-04\n",
            "Epoch 20/100\n",
            "6/6 [==============================] - ETA: 0s - loss: 0.0192 - accuracy: 1.0000"
          ]
        },
        {
          "output_type": "stream",
          "name": "stderr",
          "text": [
            "WARNING:tensorflow:Early stopping conditioned on metric `val_loss` which is not available. Available metrics are: loss,accuracy\n"
          ]
        },
        {
          "output_type": "stream",
          "name": "stdout",
          "text": [
            "\b\b\b\b\b\b\b\b\b\b\b\b\b\b\b\b\b\b\b\b\b\b\b\b\b\b\b\b\b\b\b\b\b\b\b\b\b\b\b\b\b\b\b\b\b\b\b\b\b\b\b\b\b\b\b\b\b\b\b\b\b\b\b\b\b\b\b\b\b\b\b\b\b\b\b\b\b\b\b\b\r6/6 [==============================] - 0s 55ms/step - loss: 0.0192 - accuracy: 1.0000 - lr: 9.0000e-04\n",
            "Epoch 21/100\n",
            "6/6 [==============================] - ETA: 0s - loss: 0.0222 - accuracy: 1.0000"
          ]
        },
        {
          "output_type": "stream",
          "name": "stderr",
          "text": [
            "WARNING:tensorflow:Early stopping conditioned on metric `val_loss` which is not available. Available metrics are: loss,accuracy\n"
          ]
        },
        {
          "output_type": "stream",
          "name": "stdout",
          "text": [
            "\b\b\b\b\b\b\b\b\b\b\b\b\b\b\b\b\b\b\b\b\b\b\b\b\b\b\b\b\b\b\b\b\b\b\b\b\b\b\b\b\b\b\b\b\b\b\b\b\b\b\b\b\b\b\b\b\b\b\b\b\b\b\b\b\b\b\b\b\b\b\b\b\b\b\b\b\b\b\b\b\r6/6 [==============================] - 0s 53ms/step - loss: 0.0222 - accuracy: 1.0000 - lr: 8.1000e-04\n",
            "Epoch 22/100\n",
            "6/6 [==============================] - ETA: 0s - loss: 0.0254 - accuracy: 0.9942"
          ]
        },
        {
          "output_type": "stream",
          "name": "stderr",
          "text": [
            "WARNING:tensorflow:Early stopping conditioned on metric `val_loss` which is not available. Available metrics are: loss,accuracy\n"
          ]
        },
        {
          "output_type": "stream",
          "name": "stdout",
          "text": [
            "\b\b\b\b\b\b\b\b\b\b\b\b\b\b\b\b\b\b\b\b\b\b\b\b\b\b\b\b\b\b\b\b\b\b\b\b\b\b\b\b\b\b\b\b\b\b\b\b\b\b\b\b\b\b\b\b\b\b\b\b\b\b\b\b\b\b\b\b\b\b\b\b\b\b\b\b\b\b\b\b\r6/6 [==============================] - 0s 68ms/step - loss: 0.0254 - accuracy: 0.9942 - lr: 8.1000e-04\n",
            "Epoch 23/100\n",
            "6/6 [==============================] - ETA: 0s - loss: 0.0314 - accuracy: 1.0000"
          ]
        },
        {
          "output_type": "stream",
          "name": "stderr",
          "text": [
            "WARNING:tensorflow:Early stopping conditioned on metric `val_loss` which is not available. Available metrics are: loss,accuracy\n"
          ]
        },
        {
          "output_type": "stream",
          "name": "stdout",
          "text": [
            "\b\b\b\b\b\b\b\b\b\b\b\b\b\b\b\b\b\b\b\b\b\b\b\b\b\b\b\b\b\b\b\b\b\b\b\b\b\b\b\b\b\b\b\b\b\b\b\b\b\b\b\b\b\b\b\b\b\b\b\b\b\b\b\b\b\b\b\b\b\b\b\b\b\b\b\b\b\b\b\b\r6/6 [==============================] - 0s 69ms/step - loss: 0.0314 - accuracy: 1.0000 - lr: 8.1000e-04\n",
            "Epoch 24/100\n",
            "6/6 [==============================] - ETA: 0s - loss: 0.0336 - accuracy: 1.0000"
          ]
        },
        {
          "output_type": "stream",
          "name": "stderr",
          "text": [
            "WARNING:tensorflow:Early stopping conditioned on metric `val_loss` which is not available. Available metrics are: loss,accuracy\n"
          ]
        },
        {
          "output_type": "stream",
          "name": "stdout",
          "text": [
            "\b\b\b\b\b\b\b\b\b\b\b\b\b\b\b\b\b\b\b\b\b\b\b\b\b\b\b\b\b\b\b\b\b\b\b\b\b\b\b\b\b\b\b\b\b\b\b\b\b\b\b\b\b\b\b\b\b\b\b\b\b\b\b\b\b\b\b\b\b\b\b\b\b\b\b\b\b\b\b\b\r6/6 [==============================] - 1s 82ms/step - loss: 0.0336 - accuracy: 1.0000 - lr: 8.1000e-04\n",
            "Epoch 25/100\n",
            "6/6 [==============================] - ETA: 0s - loss: 0.0317 - accuracy: 1.0000"
          ]
        },
        {
          "output_type": "stream",
          "name": "stderr",
          "text": [
            "WARNING:tensorflow:Early stopping conditioned on metric `val_loss` which is not available. Available metrics are: loss,accuracy\n"
          ]
        },
        {
          "output_type": "stream",
          "name": "stdout",
          "text": [
            "\b\b\b\b\b\b\b\b\b\b\b\b\b\b\b\b\b\b\b\b\b\b\b\b\b\b\b\b\b\b\b\b\b\b\b\b\b\b\b\b\b\b\b\b\b\b\b\b\b\b\b\b\b\b\b\b\b\b\b\b\b\b\b\b\b\b\b\b\b\b\b\b\b\b\b\b\b\b\b\b\r6/6 [==============================] - 0s 81ms/step - loss: 0.0317 - accuracy: 1.0000 - lr: 8.1000e-04\n",
            "Epoch 26/100\n",
            "6/6 [==============================] - ETA: 0s - loss: 0.0336 - accuracy: 0.9942"
          ]
        },
        {
          "output_type": "stream",
          "name": "stderr",
          "text": [
            "WARNING:tensorflow:Early stopping conditioned on metric `val_loss` which is not available. Available metrics are: loss,accuracy\n"
          ]
        },
        {
          "output_type": "stream",
          "name": "stdout",
          "text": [
            "\b\b\b\b\b\b\b\b\b\b\b\b\b\b\b\b\b\b\b\b\b\b\b\b\b\b\b\b\b\b\b\b\b\b\b\b\b\b\b\b\b\b\b\b\b\b\b\b\b\b\b\b\b\b\b\b\b\b\b\b\b\b\b\b\b\b\b\b\b\b\b\b\b\b\b\b\b\b\b\b\r6/6 [==============================] - 0s 87ms/step - loss: 0.0336 - accuracy: 0.9942 - lr: 8.1000e-04\n",
            "Epoch 27/100\n",
            "6/6 [==============================] - ETA: 0s - loss: 0.0229 - accuracy: 1.0000"
          ]
        },
        {
          "output_type": "stream",
          "name": "stderr",
          "text": [
            "WARNING:tensorflow:Early stopping conditioned on metric `val_loss` which is not available. Available metrics are: loss,accuracy\n"
          ]
        },
        {
          "output_type": "stream",
          "name": "stdout",
          "text": [
            "\b\b\b\b\b\b\b\b\b\b\b\b\b\b\b\b\b\b\b\b\b\b\b\b\b\b\b\b\b\b\b\b\b\b\b\b\b\b\b\b\b\b\b\b\b\b\b\b\b\b\b\b\b\b\b\b\b\b\b\b\b\b\b\b\b\b\b\b\b\b\b\b\b\b\b\b\b\b\b\b\r6/6 [==============================] - 1s 114ms/step - loss: 0.0229 - accuracy: 1.0000 - lr: 8.1000e-04\n",
            "Epoch 28/100\n",
            "6/6 [==============================] - ETA: 0s - loss: 0.0222 - accuracy: 1.0000"
          ]
        },
        {
          "output_type": "stream",
          "name": "stderr",
          "text": [
            "WARNING:tensorflow:Early stopping conditioned on metric `val_loss` which is not available. Available metrics are: loss,accuracy\n"
          ]
        },
        {
          "output_type": "stream",
          "name": "stdout",
          "text": [
            "\b\b\b\b\b\b\b\b\b\b\b\b\b\b\b\b\b\b\b\b\b\b\b\b\b\b\b\b\b\b\b\b\b\b\b\b\b\b\b\b\b\b\b\b\b\b\b\b\b\b\b\b\b\b\b\b\b\b\b\b\b\b\b\b\b\b\b\b\b\b\b\b\b\b\b\b\b\b\b\b\r6/6 [==============================] - 0s 73ms/step - loss: 0.0222 - accuracy: 1.0000 - lr: 8.1000e-04\n",
            "Epoch 29/100\n",
            "6/6 [==============================] - ETA: 0s - loss: 0.0134 - accuracy: 1.0000"
          ]
        },
        {
          "output_type": "stream",
          "name": "stderr",
          "text": [
            "WARNING:tensorflow:Early stopping conditioned on metric `val_loss` which is not available. Available metrics are: loss,accuracy\n"
          ]
        },
        {
          "output_type": "stream",
          "name": "stdout",
          "text": [
            "\b\b\b\b\b\b\b\b\b\b\b\b\b\b\b\b\b\b\b\b\b\b\b\b\b\b\b\b\b\b\b\b\b\b\b\b\b\b\b\b\b\b\b\b\b\b\b\b\b\b\b\b\b\b\b\b\b\b\b\b\b\b\b\b\b\b\b\b\b\b\b\b\b\b\b\b\b\b\b\b\r6/6 [==============================] - 1s 98ms/step - loss: 0.0134 - accuracy: 1.0000 - lr: 8.1000e-04\n",
            "Epoch 30/100\n",
            "6/6 [==============================] - ETA: 0s - loss: 0.0174 - accuracy: 1.0000"
          ]
        },
        {
          "output_type": "stream",
          "name": "stderr",
          "text": [
            "WARNING:tensorflow:Early stopping conditioned on metric `val_loss` which is not available. Available metrics are: loss,accuracy\n"
          ]
        },
        {
          "output_type": "stream",
          "name": "stdout",
          "text": [
            "\b\b\b\b\b\b\b\b\b\b\b\b\b\b\b\b\b\b\b\b\b\b\b\b\b\b\b\b\b\b\b\b\b\b\b\b\b\b\b\b\b\b\b\b\b\b\b\b\b\b\b\b\b\b\b\b\b\b\b\b\b\b\b\b\b\b\b\b\b\b\b\b\b\b\b\b\b\b\b\b\r6/6 [==============================] - 1s 112ms/step - loss: 0.0174 - accuracy: 1.0000 - lr: 8.1000e-04\n",
            "Epoch 31/100\n",
            "6/6 [==============================] - ETA: 0s - loss: 0.0140 - accuracy: 1.0000"
          ]
        },
        {
          "output_type": "stream",
          "name": "stderr",
          "text": [
            "WARNING:tensorflow:Early stopping conditioned on metric `val_loss` which is not available. Available metrics are: loss,accuracy\n"
          ]
        },
        {
          "output_type": "stream",
          "name": "stdout",
          "text": [
            "\b\b\b\b\b\b\b\b\b\b\b\b\b\b\b\b\b\b\b\b\b\b\b\b\b\b\b\b\b\b\b\b\b\b\b\b\b\b\b\b\b\b\b\b\b\b\b\b\b\b\b\b\b\b\b\b\b\b\b\b\b\b\b\b\b\b\b\b\b\b\b\b\b\b\b\b\b\b\b\b\r6/6 [==============================] - 1s 92ms/step - loss: 0.0140 - accuracy: 1.0000 - lr: 7.2900e-04\n",
            "Epoch 32/100\n",
            "6/6 [==============================] - ETA: 0s - loss: 0.0125 - accuracy: 1.0000"
          ]
        },
        {
          "output_type": "stream",
          "name": "stderr",
          "text": [
            "WARNING:tensorflow:Early stopping conditioned on metric `val_loss` which is not available. Available metrics are: loss,accuracy\n"
          ]
        },
        {
          "output_type": "stream",
          "name": "stdout",
          "text": [
            "\b\b\b\b\b\b\b\b\b\b\b\b\b\b\b\b\b\b\b\b\b\b\b\b\b\b\b\b\b\b\b\b\b\b\b\b\b\b\b\b\b\b\b\b\b\b\b\b\b\b\b\b\b\b\b\b\b\b\b\b\b\b\b\b\b\b\b\b\b\b\b\b\b\b\b\b\b\b\b\b\r6/6 [==============================] - 1s 110ms/step - loss: 0.0125 - accuracy: 1.0000 - lr: 7.2900e-04\n",
            "Epoch 33/100\n",
            "6/6 [==============================] - ETA: 0s - loss: 0.0101 - accuracy: 1.0000"
          ]
        },
        {
          "output_type": "stream",
          "name": "stderr",
          "text": [
            "WARNING:tensorflow:Early stopping conditioned on metric `val_loss` which is not available. Available metrics are: loss,accuracy\n"
          ]
        },
        {
          "output_type": "stream",
          "name": "stdout",
          "text": [
            "\b\b\b\b\b\b\b\b\b\b\b\b\b\b\b\b\b\b\b\b\b\b\b\b\b\b\b\b\b\b\b\b\b\b\b\b\b\b\b\b\b\b\b\b\b\b\b\b\b\b\b\b\b\b\b\b\b\b\b\b\b\b\b\b\b\b\b\b\b\b\b\b\b\b\b\b\b\b\b\b\r6/6 [==============================] - 1s 106ms/step - loss: 0.0101 - accuracy: 1.0000 - lr: 7.2900e-04\n",
            "Epoch 34/100\n",
            "5/6 [========================>.....] - ETA: 0s - loss: 0.0125 - accuracy: 1.0000"
          ]
        },
        {
          "output_type": "stream",
          "name": "stderr",
          "text": [
            "WARNING:tensorflow:Early stopping conditioned on metric `val_loss` which is not available. Available metrics are: loss,accuracy\n"
          ]
        },
        {
          "output_type": "stream",
          "name": "stdout",
          "text": [
            "\b\b\b\b\b\b\b\b\b\b\b\b\b\b\b\b\b\b\b\b\b\b\b\b\b\b\b\b\b\b\b\b\b\b\b\b\b\b\b\b\b\b\b\b\b\b\b\b\b\b\b\b\b\b\b\b\b\b\b\b\b\b\b\b\b\b\b\b\b\b\b\b\b\b\b\b\b\b\b\b\r6/6 [==============================] - 0s 60ms/step - loss: 0.0159 - accuracy: 1.0000 - lr: 7.2900e-04\n",
            "Epoch 35/100\n",
            "5/6 [========================>.....] - ETA: 0s - loss: 0.0113 - accuracy: 1.0000"
          ]
        },
        {
          "output_type": "stream",
          "name": "stderr",
          "text": [
            "WARNING:tensorflow:Early stopping conditioned on metric `val_loss` which is not available. Available metrics are: loss,accuracy\n"
          ]
        },
        {
          "output_type": "stream",
          "name": "stdout",
          "text": [
            "\b\b\b\b\b\b\b\b\b\b\b\b\b\b\b\b\b\b\b\b\b\b\b\b\b\b\b\b\b\b\b\b\b\b\b\b\b\b\b\b\b\b\b\b\b\b\b\b\b\b\b\b\b\b\b\b\b\b\b\b\b\b\b\b\b\b\b\b\b\b\b\b\b\b\b\b\b\b\b\b\r6/6 [==============================] - 0s 48ms/step - loss: 0.0145 - accuracy: 1.0000 - lr: 7.2900e-04\n",
            "Epoch 36/100\n",
            "6/6 [==============================] - ETA: 0s - loss: 0.0132 - accuracy: 1.0000"
          ]
        },
        {
          "output_type": "stream",
          "name": "stderr",
          "text": [
            "WARNING:tensorflow:Early stopping conditioned on metric `val_loss` which is not available. Available metrics are: loss,accuracy\n"
          ]
        },
        {
          "output_type": "stream",
          "name": "stdout",
          "text": [
            "\b\b\b\b\b\b\b\b\b\b\b\b\b\b\b\b\b\b\b\b\b\b\b\b\b\b\b\b\b\b\b\b\b\b\b\b\b\b\b\b\b\b\b\b\b\b\b\b\b\b\b\b\b\b\b\b\b\b\b\b\b\b\b\b\b\b\b\b\b\b\b\b\b\b\b\b\b\b\b\b\r6/6 [==============================] - 0s 68ms/step - loss: 0.0132 - accuracy: 1.0000 - lr: 7.2900e-04\n",
            "Epoch 37/100\n",
            "6/6 [==============================] - ETA: 0s - loss: 0.0094 - accuracy: 1.0000"
          ]
        },
        {
          "output_type": "stream",
          "name": "stderr",
          "text": [
            "WARNING:tensorflow:Early stopping conditioned on metric `val_loss` which is not available. Available metrics are: loss,accuracy\n"
          ]
        },
        {
          "output_type": "stream",
          "name": "stdout",
          "text": [
            "\b\b\b\b\b\b\b\b\b\b\b\b\b\b\b\b\b\b\b\b\b\b\b\b\b\b\b\b\b\b\b\b\b\b\b\b\b\b\b\b\b\b\b\b\b\b\b\b\b\b\b\b\b\b\b\b\b\b\b\b\b\b\b\b\b\b\b\b\b\b\b\b\b\b\b\b\b\b\b\b\r6/6 [==============================] - 0s 68ms/step - loss: 0.0094 - accuracy: 1.0000 - lr: 7.2900e-04\n",
            "Epoch 38/100\n",
            "6/6 [==============================] - ETA: 0s - loss: 0.0089 - accuracy: 1.0000"
          ]
        },
        {
          "output_type": "stream",
          "name": "stderr",
          "text": [
            "WARNING:tensorflow:Early stopping conditioned on metric `val_loss` which is not available. Available metrics are: loss,accuracy\n"
          ]
        },
        {
          "output_type": "stream",
          "name": "stdout",
          "text": [
            "\b\b\b\b\b\b\b\b\b\b\b\b\b\b\b\b\b\b\b\b\b\b\b\b\b\b\b\b\b\b\b\b\b\b\b\b\b\b\b\b\b\b\b\b\b\b\b\b\b\b\b\b\b\b\b\b\b\b\b\b\b\b\b\b\b\b\b\b\b\b\b\b\b\b\b\b\b\b\b\b\r6/6 [==============================] - 0s 61ms/step - loss: 0.0089 - accuracy: 1.0000 - lr: 7.2900e-04\n",
            "Epoch 39/100\n",
            "6/6 [==============================] - ETA: 0s - loss: 0.0183 - accuracy: 0.9942"
          ]
        },
        {
          "output_type": "stream",
          "name": "stderr",
          "text": [
            "WARNING:tensorflow:Early stopping conditioned on metric `val_loss` which is not available. Available metrics are: loss,accuracy\n"
          ]
        },
        {
          "output_type": "stream",
          "name": "stdout",
          "text": [
            "\b\b\b\b\b\b\b\b\b\b\b\b\b\b\b\b\b\b\b\b\b\b\b\b\b\b\b\b\b\b\b\b\b\b\b\b\b\b\b\b\b\b\b\b\b\b\b\b\b\b\b\b\b\b\b\b\b\b\b\b\b\b\b\b\b\b\b\b\b\b\b\b\b\b\b\b\b\b\b\b\r6/6 [==============================] - 0s 65ms/step - loss: 0.0183 - accuracy: 0.9942 - lr: 7.2900e-04\n",
            "Epoch 40/100\n",
            "6/6 [==============================] - ETA: 0s - loss: 0.0070 - accuracy: 1.0000"
          ]
        },
        {
          "output_type": "stream",
          "name": "stderr",
          "text": [
            "WARNING:tensorflow:Early stopping conditioned on metric `val_loss` which is not available. Available metrics are: loss,accuracy\n"
          ]
        },
        {
          "output_type": "stream",
          "name": "stdout",
          "text": [
            "\b\b\b\b\b\b\b\b\b\b\b\b\b\b\b\b\b\b\b\b\b\b\b\b\b\b\b\b\b\b\b\b\b\b\b\b\b\b\b\b\b\b\b\b\b\b\b\b\b\b\b\b\b\b\b\b\b\b\b\b\b\b\b\b\b\b\b\b\b\b\b\b\b\b\b\b\b\b\b\b\r6/6 [==============================] - 0s 67ms/step - loss: 0.0070 - accuracy: 1.0000 - lr: 7.2900e-04\n",
            "Epoch 41/100\n",
            "6/6 [==============================] - ETA: 0s - loss: 0.0097 - accuracy: 1.0000"
          ]
        },
        {
          "output_type": "stream",
          "name": "stderr",
          "text": [
            "WARNING:tensorflow:Early stopping conditioned on metric `val_loss` which is not available. Available metrics are: loss,accuracy\n"
          ]
        },
        {
          "output_type": "stream",
          "name": "stdout",
          "text": [
            "\b\b\b\b\b\b\b\b\b\b\b\b\b\b\b\b\b\b\b\b\b\b\b\b\b\b\b\b\b\b\b\b\b\b\b\b\b\b\b\b\b\b\b\b\b\b\b\b\b\b\b\b\b\b\b\b\b\b\b\b\b\b\b\b\b\b\b\b\b\b\b\b\b\b\b\b\b\b\b\b\r6/6 [==============================] - 0s 62ms/step - loss: 0.0097 - accuracy: 1.0000 - lr: 6.5610e-04\n",
            "Epoch 42/100\n",
            "5/6 [========================>.....] - ETA: 0s - loss: 0.0113 - accuracy: 1.0000"
          ]
        },
        {
          "output_type": "stream",
          "name": "stderr",
          "text": [
            "WARNING:tensorflow:Early stopping conditioned on metric `val_loss` which is not available. Available metrics are: loss,accuracy\n"
          ]
        },
        {
          "output_type": "stream",
          "name": "stdout",
          "text": [
            "\b\b\b\b\b\b\b\b\b\b\b\b\b\b\b\b\b\b\b\b\b\b\b\b\b\b\b\b\b\b\b\b\b\b\b\b\b\b\b\b\b\b\b\b\b\b\b\b\b\b\b\b\b\b\b\b\b\b\b\b\b\b\b\b\b\b\b\b\b\b\b\b\b\b\b\b\b\b\b\b\r6/6 [==============================] - 0s 58ms/step - loss: 0.0120 - accuracy: 1.0000 - lr: 6.5610e-04\n",
            "Epoch 43/100\n",
            "6/6 [==============================] - ETA: 0s - loss: 0.0108 - accuracy: 1.0000"
          ]
        },
        {
          "output_type": "stream",
          "name": "stderr",
          "text": [
            "WARNING:tensorflow:Early stopping conditioned on metric `val_loss` which is not available. Available metrics are: loss,accuracy\n"
          ]
        },
        {
          "output_type": "stream",
          "name": "stdout",
          "text": [
            "\b\b\b\b\b\b\b\b\b\b\b\b\b\b\b\b\b\b\b\b\b\b\b\b\b\b\b\b\b\b\b\b\b\b\b\b\b\b\b\b\b\b\b\b\b\b\b\b\b\b\b\b\b\b\b\b\b\b\b\b\b\b\b\b\b\b\b\b\b\b\b\b\b\b\b\b\b\b\b\b\r6/6 [==============================] - 0s 62ms/step - loss: 0.0108 - accuracy: 1.0000 - lr: 6.5610e-04\n",
            "Epoch 44/100\n",
            "6/6 [==============================] - ETA: 0s - loss: 0.0079 - accuracy: 1.0000"
          ]
        },
        {
          "output_type": "stream",
          "name": "stderr",
          "text": [
            "WARNING:tensorflow:Early stopping conditioned on metric `val_loss` which is not available. Available metrics are: loss,accuracy\n"
          ]
        },
        {
          "output_type": "stream",
          "name": "stdout",
          "text": [
            "\b\b\b\b\b\b\b\b\b\b\b\b\b\b\b\b\b\b\b\b\b\b\b\b\b\b\b\b\b\b\b\b\b\b\b\b\b\b\b\b\b\b\b\b\b\b\b\b\b\b\b\b\b\b\b\b\b\b\b\b\b\b\b\b\b\b\b\b\b\b\b\b\b\b\b\b\b\b\b\b\r6/6 [==============================] - 0s 57ms/step - loss: 0.0079 - accuracy: 1.0000 - lr: 6.5610e-04\n",
            "Epoch 45/100\n",
            "6/6 [==============================] - ETA: 0s - loss: 0.0079 - accuracy: 1.0000"
          ]
        },
        {
          "output_type": "stream",
          "name": "stderr",
          "text": [
            "WARNING:tensorflow:Early stopping conditioned on metric `val_loss` which is not available. Available metrics are: loss,accuracy\n"
          ]
        },
        {
          "output_type": "stream",
          "name": "stdout",
          "text": [
            "\b\b\b\b\b\b\b\b\b\b\b\b\b\b\b\b\b\b\b\b\b\b\b\b\b\b\b\b\b\b\b\b\b\b\b\b\b\b\b\b\b\b\b\b\b\b\b\b\b\b\b\b\b\b\b\b\b\b\b\b\b\b\b\b\b\b\b\b\b\b\b\b\b\b\b\b\b\b\b\b\r6/6 [==============================] - 0s 62ms/step - loss: 0.0079 - accuracy: 1.0000 - lr: 6.5610e-04\n",
            "Epoch 46/100\n",
            "6/6 [==============================] - ETA: 0s - loss: 0.0094 - accuracy: 1.0000"
          ]
        },
        {
          "output_type": "stream",
          "name": "stderr",
          "text": [
            "WARNING:tensorflow:Early stopping conditioned on metric `val_loss` which is not available. Available metrics are: loss,accuracy\n"
          ]
        },
        {
          "output_type": "stream",
          "name": "stdout",
          "text": [
            "\b\b\b\b\b\b\b\b\b\b\b\b\b\b\b\b\b\b\b\b\b\b\b\b\b\b\b\b\b\b\b\b\b\b\b\b\b\b\b\b\b\b\b\b\b\b\b\b\b\b\b\b\b\b\b\b\b\b\b\b\b\b\b\b\b\b\b\b\b\b\b\b\b\b\b\b\b\b\b\b\r6/6 [==============================] - 0s 66ms/step - loss: 0.0094 - accuracy: 1.0000 - lr: 6.5610e-04\n",
            "Epoch 47/100\n",
            "6/6 [==============================] - ETA: 0s - loss: 0.0077 - accuracy: 1.0000"
          ]
        },
        {
          "output_type": "stream",
          "name": "stderr",
          "text": [
            "WARNING:tensorflow:Early stopping conditioned on metric `val_loss` which is not available. Available metrics are: loss,accuracy\n"
          ]
        },
        {
          "output_type": "stream",
          "name": "stdout",
          "text": [
            "\b\b\b\b\b\b\b\b\b\b\b\b\b\b\b\b\b\b\b\b\b\b\b\b\b\b\b\b\b\b\b\b\b\b\b\b\b\b\b\b\b\b\b\b\b\b\b\b\b\b\b\b\b\b\b\b\b\b\b\b\b\b\b\b\b\b\b\b\b\b\b\b\b\b\b\b\b\b\b\b\r6/6 [==============================] - 0s 54ms/step - loss: 0.0077 - accuracy: 1.0000 - lr: 6.5610e-04\n",
            "Epoch 48/100\n",
            "6/6 [==============================] - ETA: 0s - loss: 0.0238 - accuracy: 0.9942"
          ]
        },
        {
          "output_type": "stream",
          "name": "stderr",
          "text": [
            "WARNING:tensorflow:Early stopping conditioned on metric `val_loss` which is not available. Available metrics are: loss,accuracy\n"
          ]
        },
        {
          "output_type": "stream",
          "name": "stdout",
          "text": [
            "\b\b\b\b\b\b\b\b\b\b\b\b\b\b\b\b\b\b\b\b\b\b\b\b\b\b\b\b\b\b\b\b\b\b\b\b\b\b\b\b\b\b\b\b\b\b\b\b\b\b\b\b\b\b\b\b\b\b\b\b\b\b\b\b\b\b\b\b\b\b\b\b\b\b\b\b\b\b\b\b\r6/6 [==============================] - 0s 58ms/step - loss: 0.0238 - accuracy: 0.9942 - lr: 6.5610e-04\n",
            "Epoch 49/100\n",
            "6/6 [==============================] - ETA: 0s - loss: 0.0274 - accuracy: 0.9942"
          ]
        },
        {
          "output_type": "stream",
          "name": "stderr",
          "text": [
            "WARNING:tensorflow:Early stopping conditioned on metric `val_loss` which is not available. Available metrics are: loss,accuracy\n"
          ]
        },
        {
          "output_type": "stream",
          "name": "stdout",
          "text": [
            "\b\b\b\b\b\b\b\b\b\b\b\b\b\b\b\b\b\b\b\b\b\b\b\b\b\b\b\b\b\b\b\b\b\b\b\b\b\b\b\b\b\b\b\b\b\b\b\b\b\b\b\b\b\b\b\b\b\b\b\b\b\b\b\b\b\b\b\b\b\b\b\b\b\b\b\b\b\b\b\b\r6/6 [==============================] - 0s 69ms/step - loss: 0.0274 - accuracy: 0.9942 - lr: 6.5610e-04\n",
            "Epoch 50/100\n",
            "6/6 [==============================] - ETA: 0s - loss: 0.0336 - accuracy: 0.9942"
          ]
        },
        {
          "output_type": "stream",
          "name": "stderr",
          "text": [
            "WARNING:tensorflow:Early stopping conditioned on metric `val_loss` which is not available. Available metrics are: loss,accuracy\n"
          ]
        },
        {
          "output_type": "stream",
          "name": "stdout",
          "text": [
            "\b\b\b\b\b\b\b\b\b\b\b\b\b\b\b\b\b\b\b\b\b\b\b\b\b\b\b\b\b\b\b\b\b\b\b\b\b\b\b\b\b\b\b\b\b\b\b\b\b\b\b\b\b\b\b\b\b\b\b\b\b\b\b\b\b\b\b\b\b\b\b\b\b\b\b\b\b\b\b\b\r6/6 [==============================] - 0s 62ms/step - loss: 0.0336 - accuracy: 0.9942 - lr: 6.5610e-04\n",
            "Epoch 51/100\n",
            "6/6 [==============================] - ETA: 0s - loss: 0.0136 - accuracy: 1.0000"
          ]
        },
        {
          "output_type": "stream",
          "name": "stderr",
          "text": [
            "WARNING:tensorflow:Early stopping conditioned on metric `val_loss` which is not available. Available metrics are: loss,accuracy\n"
          ]
        },
        {
          "output_type": "stream",
          "name": "stdout",
          "text": [
            "\b\b\b\b\b\b\b\b\b\b\b\b\b\b\b\b\b\b\b\b\b\b\b\b\b\b\b\b\b\b\b\b\b\b\b\b\b\b\b\b\b\b\b\b\b\b\b\b\b\b\b\b\b\b\b\b\b\b\b\b\b\b\b\b\b\b\b\b\b\b\b\b\b\b\b\b\b\b\b\b\r6/6 [==============================] - 0s 53ms/step - loss: 0.0136 - accuracy: 1.0000 - lr: 5.9049e-04\n",
            "Epoch 52/100\n",
            "5/6 [========================>.....] - ETA: 0s - loss: 0.0150 - accuracy: 1.0000"
          ]
        },
        {
          "output_type": "stream",
          "name": "stderr",
          "text": [
            "WARNING:tensorflow:Early stopping conditioned on metric `val_loss` which is not available. Available metrics are: loss,accuracy\n"
          ]
        },
        {
          "output_type": "stream",
          "name": "stdout",
          "text": [
            "\b\b\b\b\b\b\b\b\b\b\b\b\b\b\b\b\b\b\b\b\b\b\b\b\b\b\b\b\b\b\b\b\b\b\b\b\b\b\b\b\b\b\b\b\b\b\b\b\b\b\b\b\b\b\b\b\b\b\b\b\b\b\b\b\b\b\b\b\b\b\b\b\b\b\b\b\b\b\b\b\r6/6 [==============================] - 0s 58ms/step - loss: 0.0155 - accuracy: 1.0000 - lr: 5.9049e-04\n",
            "Epoch 53/100\n",
            "6/6 [==============================] - ETA: 0s - loss: 0.0123 - accuracy: 1.0000"
          ]
        },
        {
          "output_type": "stream",
          "name": "stderr",
          "text": [
            "WARNING:tensorflow:Early stopping conditioned on metric `val_loss` which is not available. Available metrics are: loss,accuracy\n"
          ]
        },
        {
          "output_type": "stream",
          "name": "stdout",
          "text": [
            "\b\b\b\b\b\b\b\b\b\b\b\b\b\b\b\b\b\b\b\b\b\b\b\b\b\b\b\b\b\b\b\b\b\b\b\b\b\b\b\b\b\b\b\b\b\b\b\b\b\b\b\b\b\b\b\b\b\b\b\b\b\b\b\b\b\b\b\b\b\b\b\b\b\b\b\b\b\b\b\b\r6/6 [==============================] - 0s 59ms/step - loss: 0.0123 - accuracy: 1.0000 - lr: 5.9049e-04\n",
            "Epoch 54/100\n",
            "6/6 [==============================] - ETA: 0s - loss: 0.0094 - accuracy: 1.0000"
          ]
        },
        {
          "output_type": "stream",
          "name": "stderr",
          "text": [
            "WARNING:tensorflow:Early stopping conditioned on metric `val_loss` which is not available. Available metrics are: loss,accuracy\n"
          ]
        },
        {
          "output_type": "stream",
          "name": "stdout",
          "text": [
            "\b\b\b\b\b\b\b\b\b\b\b\b\b\b\b\b\b\b\b\b\b\b\b\b\b\b\b\b\b\b\b\b\b\b\b\b\b\b\b\b\b\b\b\b\b\b\b\b\b\b\b\b\b\b\b\b\b\b\b\b\b\b\b\b\b\b\b\b\b\b\b\b\b\b\b\b\b\b\b\b\r6/6 [==============================] - 0s 60ms/step - loss: 0.0094 - accuracy: 1.0000 - lr: 5.9049e-04\n",
            "Epoch 55/100\n",
            "5/6 [========================>.....] - ETA: 0s - loss: 0.0091 - accuracy: 1.0000"
          ]
        },
        {
          "output_type": "stream",
          "name": "stderr",
          "text": [
            "WARNING:tensorflow:Early stopping conditioned on metric `val_loss` which is not available. Available metrics are: loss,accuracy\n"
          ]
        },
        {
          "output_type": "stream",
          "name": "stdout",
          "text": [
            "\b\b\b\b\b\b\b\b\b\b\b\b\b\b\b\b\b\b\b\b\b\b\b\b\b\b\b\b\b\b\b\b\b\b\b\b\b\b\b\b\b\b\b\b\b\b\b\b\b\b\b\b\b\b\b\b\b\b\b\b\b\b\b\b\b\b\b\b\b\b\b\b\b\b\b\b\b\b\b\b\r6/6 [==============================] - 0s 46ms/step - loss: 0.0136 - accuracy: 1.0000 - lr: 5.9049e-04\n",
            "Epoch 56/100\n",
            "6/6 [==============================] - ETA: 0s - loss: 0.0073 - accuracy: 1.0000"
          ]
        },
        {
          "output_type": "stream",
          "name": "stderr",
          "text": [
            "WARNING:tensorflow:Early stopping conditioned on metric `val_loss` which is not available. Available metrics are: loss,accuracy\n"
          ]
        },
        {
          "output_type": "stream",
          "name": "stdout",
          "text": [
            "\b\b\b\b\b\b\b\b\b\b\b\b\b\b\b\b\b\b\b\b\b\b\b\b\b\b\b\b\b\b\b\b\b\b\b\b\b\b\b\b\b\b\b\b\b\b\b\b\b\b\b\b\b\b\b\b\b\b\b\b\b\b\b\b\b\b\b\b\b\b\b\b\b\b\b\b\b\b\b\b\r6/6 [==============================] - 0s 59ms/step - loss: 0.0073 - accuracy: 1.0000 - lr: 5.9049e-04\n",
            "Epoch 57/100\n",
            "6/6 [==============================] - ETA: 0s - loss: 0.0073 - accuracy: 1.0000"
          ]
        },
        {
          "output_type": "stream",
          "name": "stderr",
          "text": [
            "WARNING:tensorflow:Early stopping conditioned on metric `val_loss` which is not available. Available metrics are: loss,accuracy\n"
          ]
        },
        {
          "output_type": "stream",
          "name": "stdout",
          "text": [
            "\b\b\b\b\b\b\b\b\b\b\b\b\b\b\b\b\b\b\b\b\b\b\b\b\b\b\b\b\b\b\b\b\b\b\b\b\b\b\b\b\b\b\b\b\b\b\b\b\b\b\b\b\b\b\b\b\b\b\b\b\b\b\b\b\b\b\b\b\b\b\b\b\b\b\b\b\b\b\b\b\r6/6 [==============================] - 0s 71ms/step - loss: 0.0073 - accuracy: 1.0000 - lr: 5.9049e-04\n",
            "Epoch 58/100\n",
            "6/6 [==============================] - ETA: 0s - loss: 0.0068 - accuracy: 1.0000"
          ]
        },
        {
          "output_type": "stream",
          "name": "stderr",
          "text": [
            "WARNING:tensorflow:Early stopping conditioned on metric `val_loss` which is not available. Available metrics are: loss,accuracy\n"
          ]
        },
        {
          "output_type": "stream",
          "name": "stdout",
          "text": [
            "\b\b\b\b\b\b\b\b\b\b\b\b\b\b\b\b\b\b\b\b\b\b\b\b\b\b\b\b\b\b\b\b\b\b\b\b\b\b\b\b\b\b\b\b\b\b\b\b\b\b\b\b\b\b\b\b\b\b\b\b\b\b\b\b\b\b\b\b\b\b\b\b\b\b\b\b\b\b\b\b\r6/6 [==============================] - 0s 65ms/step - loss: 0.0068 - accuracy: 1.0000 - lr: 5.9049e-04\n",
            "Epoch 59/100\n",
            "6/6 [==============================] - ETA: 0s - loss: 0.0066 - accuracy: 1.0000"
          ]
        },
        {
          "output_type": "stream",
          "name": "stderr",
          "text": [
            "WARNING:tensorflow:Early stopping conditioned on metric `val_loss` which is not available. Available metrics are: loss,accuracy\n"
          ]
        },
        {
          "output_type": "stream",
          "name": "stdout",
          "text": [
            "\b\b\b\b\b\b\b\b\b\b\b\b\b\b\b\b\b\b\b\b\b\b\b\b\b\b\b\b\b\b\b\b\b\b\b\b\b\b\b\b\b\b\b\b\b\b\b\b\b\b\b\b\b\b\b\b\b\b\b\b\b\b\b\b\b\b\b\b\b\b\b\b\b\b\b\b\b\b\b\b\r6/6 [==============================] - 0s 85ms/step - loss: 0.0066 - accuracy: 1.0000 - lr: 5.9049e-04\n",
            "Epoch 60/100\n",
            "6/6 [==============================] - ETA: 0s - loss: 0.0062 - accuracy: 1.0000"
          ]
        },
        {
          "output_type": "stream",
          "name": "stderr",
          "text": [
            "WARNING:tensorflow:Early stopping conditioned on metric `val_loss` which is not available. Available metrics are: loss,accuracy\n"
          ]
        },
        {
          "output_type": "stream",
          "name": "stdout",
          "text": [
            "\b\b\b\b\b\b\b\b\b\b\b\b\b\b\b\b\b\b\b\b\b\b\b\b\b\b\b\b\b\b\b\b\b\b\b\b\b\b\b\b\b\b\b\b\b\b\b\b\b\b\b\b\b\b\b\b\b\b\b\b\b\b\b\b\b\b\b\b\b\b\b\b\b\b\b\b\b\b\b\b\r6/6 [==============================] - 1s 106ms/step - loss: 0.0062 - accuracy: 1.0000 - lr: 5.9049e-04\n",
            "Epoch 61/100\n",
            "6/6 [==============================] - ETA: 0s - loss: 0.0065 - accuracy: 1.0000"
          ]
        },
        {
          "output_type": "stream",
          "name": "stderr",
          "text": [
            "WARNING:tensorflow:Early stopping conditioned on metric `val_loss` which is not available. Available metrics are: loss,accuracy\n"
          ]
        },
        {
          "output_type": "stream",
          "name": "stdout",
          "text": [
            "\b\b\b\b\b\b\b\b\b\b\b\b\b\b\b\b\b\b\b\b\b\b\b\b\b\b\b\b\b\b\b\b\b\b\b\b\b\b\b\b\b\b\b\b\b\b\b\b\b\b\b\b\b\b\b\b\b\b\b\b\b\b\b\b\b\b\b\b\b\b\b\b\b\b\b\b\b\b\b\b\r6/6 [==============================] - 1s 106ms/step - loss: 0.0065 - accuracy: 1.0000 - lr: 5.3144e-04\n",
            "Epoch 62/100\n",
            "6/6 [==============================] - ETA: 0s - loss: 0.0046 - accuracy: 1.0000"
          ]
        },
        {
          "output_type": "stream",
          "name": "stderr",
          "text": [
            "WARNING:tensorflow:Early stopping conditioned on metric `val_loss` which is not available. Available metrics are: loss,accuracy\n"
          ]
        },
        {
          "output_type": "stream",
          "name": "stdout",
          "text": [
            "\b\b\b\b\b\b\b\b\b\b\b\b\b\b\b\b\b\b\b\b\b\b\b\b\b\b\b\b\b\b\b\b\b\b\b\b\b\b\b\b\b\b\b\b\b\b\b\b\b\b\b\b\b\b\b\b\b\b\b\b\b\b\b\b\b\b\b\b\b\b\b\b\b\b\b\b\b\b\b\b\r6/6 [==============================] - 1s 126ms/step - loss: 0.0046 - accuracy: 1.0000 - lr: 5.3144e-04\n",
            "Epoch 63/100\n",
            "6/6 [==============================] - ETA: 0s - loss: 0.0058 - accuracy: 1.0000"
          ]
        },
        {
          "output_type": "stream",
          "name": "stderr",
          "text": [
            "WARNING:tensorflow:Early stopping conditioned on metric `val_loss` which is not available. Available metrics are: loss,accuracy\n"
          ]
        },
        {
          "output_type": "stream",
          "name": "stdout",
          "text": [
            "\b\b\b\b\b\b\b\b\b\b\b\b\b\b\b\b\b\b\b\b\b\b\b\b\b\b\b\b\b\b\b\b\b\b\b\b\b\b\b\b\b\b\b\b\b\b\b\b\b\b\b\b\b\b\b\b\b\b\b\b\b\b\b\b\b\b\b\b\b\b\b\b\b\b\b\b\b\b\b\b\r6/6 [==============================] - 1s 130ms/step - loss: 0.0058 - accuracy: 1.0000 - lr: 5.3144e-04\n",
            "Epoch 64/100\n",
            "6/6 [==============================] - ETA: 0s - loss: 0.0039 - accuracy: 1.0000"
          ]
        },
        {
          "output_type": "stream",
          "name": "stderr",
          "text": [
            "WARNING:tensorflow:Early stopping conditioned on metric `val_loss` which is not available. Available metrics are: loss,accuracy\n"
          ]
        },
        {
          "output_type": "stream",
          "name": "stdout",
          "text": [
            "\b\b\b\b\b\b\b\b\b\b\b\b\b\b\b\b\b\b\b\b\b\b\b\b\b\b\b\b\b\b\b\b\b\b\b\b\b\b\b\b\b\b\b\b\b\b\b\b\b\b\b\b\b\b\b\b\b\b\b\b\b\b\b\b\b\b\b\b\b\b\b\b\b\b\b\b\b\b\b\b\r6/6 [==============================] - 1s 92ms/step - loss: 0.0039 - accuracy: 1.0000 - lr: 5.3144e-04\n",
            "Epoch 65/100\n",
            "6/6 [==============================] - ETA: 0s - loss: 0.0046 - accuracy: 1.0000"
          ]
        },
        {
          "output_type": "stream",
          "name": "stderr",
          "text": [
            "WARNING:tensorflow:Early stopping conditioned on metric `val_loss` which is not available. Available metrics are: loss,accuracy\n"
          ]
        },
        {
          "output_type": "stream",
          "name": "stdout",
          "text": [
            "\b\b\b\b\b\b\b\b\b\b\b\b\b\b\b\b\b\b\b\b\b\b\b\b\b\b\b\b\b\b\b\b\b\b\b\b\b\b\b\b\b\b\b\b\b\b\b\b\b\b\b\b\b\b\b\b\b\b\b\b\b\b\b\b\b\b\b\b\b\b\b\b\b\b\b\b\b\b\b\b\r6/6 [==============================] - 1s 114ms/step - loss: 0.0046 - accuracy: 1.0000 - lr: 5.3144e-04\n",
            "Epoch 66/100\n",
            "6/6 [==============================] - ETA: 0s - loss: 0.0039 - accuracy: 1.0000"
          ]
        },
        {
          "output_type": "stream",
          "name": "stderr",
          "text": [
            "WARNING:tensorflow:Early stopping conditioned on metric `val_loss` which is not available. Available metrics are: loss,accuracy\n"
          ]
        },
        {
          "output_type": "stream",
          "name": "stdout",
          "text": [
            "\b\b\b\b\b\b\b\b\b\b\b\b\b\b\b\b\b\b\b\b\b\b\b\b\b\b\b\b\b\b\b\b\b\b\b\b\b\b\b\b\b\b\b\b\b\b\b\b\b\b\b\b\b\b\b\b\b\b\b\b\b\b\b\b\b\b\b\b\b\b\b\b\b\b\b\b\b\b\b\b\r6/6 [==============================] - 1s 102ms/step - loss: 0.0039 - accuracy: 1.0000 - lr: 5.3144e-04\n",
            "Epoch 67/100\n",
            "6/6 [==============================] - ETA: 0s - loss: 0.0049 - accuracy: 1.0000"
          ]
        },
        {
          "output_type": "stream",
          "name": "stderr",
          "text": [
            "WARNING:tensorflow:Early stopping conditioned on metric `val_loss` which is not available. Available metrics are: loss,accuracy\n"
          ]
        },
        {
          "output_type": "stream",
          "name": "stdout",
          "text": [
            "\b\b\b\b\b\b\b\b\b\b\b\b\b\b\b\b\b\b\b\b\b\b\b\b\b\b\b\b\b\b\b\b\b\b\b\b\b\b\b\b\b\b\b\b\b\b\b\b\b\b\b\b\b\b\b\b\b\b\b\b\b\b\b\b\b\b\b\b\b\b\b\b\b\b\b\b\b\b\b\b\r6/6 [==============================] - 1s 107ms/step - loss: 0.0049 - accuracy: 1.0000 - lr: 5.3144e-04\n",
            "Epoch 68/100\n",
            "6/6 [==============================] - ETA: 0s - loss: 0.0045 - accuracy: 1.0000"
          ]
        },
        {
          "output_type": "stream",
          "name": "stderr",
          "text": [
            "WARNING:tensorflow:Early stopping conditioned on metric `val_loss` which is not available. Available metrics are: loss,accuracy\n"
          ]
        },
        {
          "output_type": "stream",
          "name": "stdout",
          "text": [
            "\b\b\b\b\b\b\b\b\b\b\b\b\b\b\b\b\b\b\b\b\b\b\b\b\b\b\b\b\b\b\b\b\b\b\b\b\b\b\b\b\b\b\b\b\b\b\b\b\b\b\b\b\b\b\b\b\b\b\b\b\b\b\b\b\b\b\b\b\b\b\b\b\b\b\b\b\b\b\b\b\r6/6 [==============================] - 1s 108ms/step - loss: 0.0045 - accuracy: 1.0000 - lr: 5.3144e-04\n",
            "Epoch 69/100\n",
            "6/6 [==============================] - ETA: 0s - loss: 0.0035 - accuracy: 1.0000"
          ]
        },
        {
          "output_type": "stream",
          "name": "stderr",
          "text": [
            "WARNING:tensorflow:Early stopping conditioned on metric `val_loss` which is not available. Available metrics are: loss,accuracy\n"
          ]
        },
        {
          "output_type": "stream",
          "name": "stdout",
          "text": [
            "\b\b\b\b\b\b\b\b\b\b\b\b\b\b\b\b\b\b\b\b\b\b\b\b\b\b\b\b\b\b\b\b\b\b\b\b\b\b\b\b\b\b\b\b\b\b\b\b\b\b\b\b\b\b\b\b\b\b\b\b\b\b\b\b\b\b\b\b\b\b\b\b\b\b\b\b\b\b\b\b\r6/6 [==============================] - 1s 107ms/step - loss: 0.0035 - accuracy: 1.0000 - lr: 5.3144e-04\n",
            "Epoch 70/100\n",
            "6/6 [==============================] - ETA: 0s - loss: 0.0028 - accuracy: 1.0000"
          ]
        },
        {
          "output_type": "stream",
          "name": "stderr",
          "text": [
            "WARNING:tensorflow:Early stopping conditioned on metric `val_loss` which is not available. Available metrics are: loss,accuracy\n"
          ]
        },
        {
          "output_type": "stream",
          "name": "stdout",
          "text": [
            "\b\b\b\b\b\b\b\b\b\b\b\b\b\b\b\b\b\b\b\b\b\b\b\b\b\b\b\b\b\b\b\b\b\b\b\b\b\b\b\b\b\b\b\b\b\b\b\b\b\b\b\b\b\b\b\b\b\b\b\b\b\b\b\b\b\b\b\b\b\b\b\b\b\b\b\b\b\b\b\b\r6/6 [==============================] - 1s 102ms/step - loss: 0.0028 - accuracy: 1.0000 - lr: 5.3144e-04\n",
            "Epoch 71/100\n",
            "6/6 [==============================] - ETA: 0s - loss: 0.0030 - accuracy: 1.0000"
          ]
        },
        {
          "output_type": "stream",
          "name": "stderr",
          "text": [
            "WARNING:tensorflow:Early stopping conditioned on metric `val_loss` which is not available. Available metrics are: loss,accuracy\n"
          ]
        },
        {
          "output_type": "stream",
          "name": "stdout",
          "text": [
            "\b\b\b\b\b\b\b\b\b\b\b\b\b\b\b\b\b\b\b\b\b\b\b\b\b\b\b\b\b\b\b\b\b\b\b\b\b\b\b\b\b\b\b\b\b\b\b\b\b\b\b\b\b\b\b\b\b\b\b\b\b\b\b\b\b\b\b\b\b\b\b\b\b\b\b\b\b\b\b\b\r6/6 [==============================] - 1s 107ms/step - loss: 0.0030 - accuracy: 1.0000 - lr: 4.7830e-04\n",
            "Epoch 72/100\n",
            "6/6 [==============================] - ETA: 0s - loss: 0.0037 - accuracy: 1.0000"
          ]
        },
        {
          "output_type": "stream",
          "name": "stderr",
          "text": [
            "WARNING:tensorflow:Early stopping conditioned on metric `val_loss` which is not available. Available metrics are: loss,accuracy\n"
          ]
        },
        {
          "output_type": "stream",
          "name": "stdout",
          "text": [
            "\b\b\b\b\b\b\b\b\b\b\b\b\b\b\b\b\b\b\b\b\b\b\b\b\b\b\b\b\b\b\b\b\b\b\b\b\b\b\b\b\b\b\b\b\b\b\b\b\b\b\b\b\b\b\b\b\b\b\b\b\b\b\b\b\b\b\b\b\b\b\b\b\b\b\b\b\b\b\b\b\r6/6 [==============================] - 0s 54ms/step - loss: 0.0037 - accuracy: 1.0000 - lr: 4.7830e-04\n",
            "Epoch 73/100\n",
            "6/6 [==============================] - ETA: 0s - loss: 0.0039 - accuracy: 1.0000"
          ]
        },
        {
          "output_type": "stream",
          "name": "stderr",
          "text": [
            "WARNING:tensorflow:Early stopping conditioned on metric `val_loss` which is not available. Available metrics are: loss,accuracy\n"
          ]
        },
        {
          "output_type": "stream",
          "name": "stdout",
          "text": [
            "\b\b\b\b\b\b\b\b\b\b\b\b\b\b\b\b\b\b\b\b\b\b\b\b\b\b\b\b\b\b\b\b\b\b\b\b\b\b\b\b\b\b\b\b\b\b\b\b\b\b\b\b\b\b\b\b\b\b\b\b\b\b\b\b\b\b\b\b\b\b\b\b\b\b\b\b\b\b\b\b\r6/6 [==============================] - 0s 57ms/step - loss: 0.0039 - accuracy: 1.0000 - lr: 4.7830e-04\n",
            "Epoch 74/100\n",
            "6/6 [==============================] - ETA: 0s - loss: 0.0059 - accuracy: 1.0000"
          ]
        },
        {
          "output_type": "stream",
          "name": "stderr",
          "text": [
            "WARNING:tensorflow:Early stopping conditioned on metric `val_loss` which is not available. Available metrics are: loss,accuracy\n"
          ]
        },
        {
          "output_type": "stream",
          "name": "stdout",
          "text": [
            "\b\b\b\b\b\b\b\b\b\b\b\b\b\b\b\b\b\b\b\b\b\b\b\b\b\b\b\b\b\b\b\b\b\b\b\b\b\b\b\b\b\b\b\b\b\b\b\b\b\b\b\b\b\b\b\b\b\b\b\b\b\b\b\b\b\b\b\b\b\b\b\b\b\b\b\b\b\b\b\b\r6/6 [==============================] - 0s 58ms/step - loss: 0.0059 - accuracy: 1.0000 - lr: 4.7830e-04\n",
            "Epoch 75/100\n",
            "6/6 [==============================] - ETA: 0s - loss: 0.0038 - accuracy: 1.0000"
          ]
        },
        {
          "output_type": "stream",
          "name": "stderr",
          "text": [
            "WARNING:tensorflow:Early stopping conditioned on metric `val_loss` which is not available. Available metrics are: loss,accuracy\n"
          ]
        },
        {
          "output_type": "stream",
          "name": "stdout",
          "text": [
            "\b\b\b\b\b\b\b\b\b\b\b\b\b\b\b\b\b\b\b\b\b\b\b\b\b\b\b\b\b\b\b\b\b\b\b\b\b\b\b\b\b\b\b\b\b\b\b\b\b\b\b\b\b\b\b\b\b\b\b\b\b\b\b\b\b\b\b\b\b\b\b\b\b\b\b\b\b\b\b\b\r6/6 [==============================] - 0s 62ms/step - loss: 0.0038 - accuracy: 1.0000 - lr: 4.7830e-04\n",
            "Epoch 76/100\n",
            "6/6 [==============================] - ETA: 0s - loss: 0.0035 - accuracy: 1.0000"
          ]
        },
        {
          "output_type": "stream",
          "name": "stderr",
          "text": [
            "WARNING:tensorflow:Early stopping conditioned on metric `val_loss` which is not available. Available metrics are: loss,accuracy\n"
          ]
        },
        {
          "output_type": "stream",
          "name": "stdout",
          "text": [
            "\b\b\b\b\b\b\b\b\b\b\b\b\b\b\b\b\b\b\b\b\b\b\b\b\b\b\b\b\b\b\b\b\b\b\b\b\b\b\b\b\b\b\b\b\b\b\b\b\b\b\b\b\b\b\b\b\b\b\b\b\b\b\b\b\b\b\b\b\b\b\b\b\b\b\b\b\b\b\b\b\r6/6 [==============================] - 0s 64ms/step - loss: 0.0035 - accuracy: 1.0000 - lr: 4.7830e-04\n",
            "Epoch 77/100\n",
            "6/6 [==============================] - ETA: 0s - loss: 0.0059 - accuracy: 1.0000"
          ]
        },
        {
          "output_type": "stream",
          "name": "stderr",
          "text": [
            "WARNING:tensorflow:Early stopping conditioned on metric `val_loss` which is not available. Available metrics are: loss,accuracy\n"
          ]
        },
        {
          "output_type": "stream",
          "name": "stdout",
          "text": [
            "\b\b\b\b\b\b\b\b\b\b\b\b\b\b\b\b\b\b\b\b\b\b\b\b\b\b\b\b\b\b\b\b\b\b\b\b\b\b\b\b\b\b\b\b\b\b\b\b\b\b\b\b\b\b\b\b\b\b\b\b\b\b\b\b\b\b\b\b\b\b\b\b\b\b\b\b\b\b\b\b\r6/6 [==============================] - 0s 71ms/step - loss: 0.0059 - accuracy: 1.0000 - lr: 4.7830e-04\n",
            "Epoch 78/100\n",
            "6/6 [==============================] - ETA: 0s - loss: 0.0037 - accuracy: 1.0000"
          ]
        },
        {
          "output_type": "stream",
          "name": "stderr",
          "text": [
            "WARNING:tensorflow:Early stopping conditioned on metric `val_loss` which is not available. Available metrics are: loss,accuracy\n"
          ]
        },
        {
          "output_type": "stream",
          "name": "stdout",
          "text": [
            "\b\b\b\b\b\b\b\b\b\b\b\b\b\b\b\b\b\b\b\b\b\b\b\b\b\b\b\b\b\b\b\b\b\b\b\b\b\b\b\b\b\b\b\b\b\b\b\b\b\b\b\b\b\b\b\b\b\b\b\b\b\b\b\b\b\b\b\b\b\b\b\b\b\b\b\b\b\b\b\b\r6/6 [==============================] - 1s 84ms/step - loss: 0.0037 - accuracy: 1.0000 - lr: 4.7830e-04\n",
            "Epoch 79/100\n",
            "5/6 [========================>.....] - ETA: 0s - loss: 0.0036 - accuracy: 1.0000"
          ]
        },
        {
          "output_type": "stream",
          "name": "stderr",
          "text": [
            "WARNING:tensorflow:Early stopping conditioned on metric `val_loss` which is not available. Available metrics are: loss,accuracy\n"
          ]
        },
        {
          "output_type": "stream",
          "name": "stdout",
          "text": [
            "\b\b\b\b\b\b\b\b\b\b\b\b\b\b\b\b\b\b\b\b\b\b\b\b\b\b\b\b\b\b\b\b\b\b\b\b\b\b\b\b\b\b\b\b\b\b\b\b\b\b\b\b\b\b\b\b\b\b\b\b\b\b\b\b\b\b\b\b\b\b\b\b\b\b\b\b\b\b\b\b\r6/6 [==============================] - 0s 49ms/step - loss: 0.0043 - accuracy: 1.0000 - lr: 4.7830e-04\n",
            "Epoch 80/100\n",
            "5/6 [========================>.....] - ETA: 0s - loss: 0.0026 - accuracy: 1.0000"
          ]
        },
        {
          "output_type": "stream",
          "name": "stderr",
          "text": [
            "WARNING:tensorflow:Early stopping conditioned on metric `val_loss` which is not available. Available metrics are: loss,accuracy\n"
          ]
        },
        {
          "output_type": "stream",
          "name": "stdout",
          "text": [
            "\b\b\b\b\b\b\b\b\b\b\b\b\b\b\b\b\b\b\b\b\b\b\b\b\b\b\b\b\b\b\b\b\b\b\b\b\b\b\b\b\b\b\b\b\b\b\b\b\b\b\b\b\b\b\b\b\b\b\b\b\b\b\b\b\b\b\b\b\b\b\b\b\b\b\b\b\b\b\b\b\r6/6 [==============================] - 0s 59ms/step - loss: 0.0055 - accuracy: 1.0000 - lr: 4.7830e-04\n",
            "Epoch 81/100\n",
            "6/6 [==============================] - ETA: 0s - loss: 0.0029 - accuracy: 1.0000"
          ]
        },
        {
          "output_type": "stream",
          "name": "stderr",
          "text": [
            "WARNING:tensorflow:Early stopping conditioned on metric `val_loss` which is not available. Available metrics are: loss,accuracy\n"
          ]
        },
        {
          "output_type": "stream",
          "name": "stdout",
          "text": [
            "\b\b\b\b\b\b\b\b\b\b\b\b\b\b\b\b\b\b\b\b\b\b\b\b\b\b\b\b\b\b\b\b\b\b\b\b\b\b\b\b\b\b\b\b\b\b\b\b\b\b\b\b\b\b\b\b\b\b\b\b\b\b\b\b\b\b\b\b\b\b\b\b\b\b\b\b\b\b\b\b\r6/6 [==============================] - 0s 67ms/step - loss: 0.0029 - accuracy: 1.0000 - lr: 4.3047e-04\n",
            "Epoch 82/100\n",
            "6/6 [==============================] - ETA: 0s - loss: 0.0044 - accuracy: 1.0000"
          ]
        },
        {
          "output_type": "stream",
          "name": "stderr",
          "text": [
            "WARNING:tensorflow:Early stopping conditioned on metric `val_loss` which is not available. Available metrics are: loss,accuracy\n"
          ]
        },
        {
          "output_type": "stream",
          "name": "stdout",
          "text": [
            "\b\b\b\b\b\b\b\b\b\b\b\b\b\b\b\b\b\b\b\b\b\b\b\b\b\b\b\b\b\b\b\b\b\b\b\b\b\b\b\b\b\b\b\b\b\b\b\b\b\b\b\b\b\b\b\b\b\b\b\b\b\b\b\b\b\b\b\b\b\b\b\b\b\b\b\b\b\b\b\b\r6/6 [==============================] - 0s 70ms/step - loss: 0.0044 - accuracy: 1.0000 - lr: 4.3047e-04\n",
            "Epoch 83/100\n",
            "6/6 [==============================] - ETA: 0s - loss: 0.0041 - accuracy: 1.0000"
          ]
        },
        {
          "output_type": "stream",
          "name": "stderr",
          "text": [
            "WARNING:tensorflow:Early stopping conditioned on metric `val_loss` which is not available. Available metrics are: loss,accuracy\n"
          ]
        },
        {
          "output_type": "stream",
          "name": "stdout",
          "text": [
            "\b\b\b\b\b\b\b\b\b\b\b\b\b\b\b\b\b\b\b\b\b\b\b\b\b\b\b\b\b\b\b\b\b\b\b\b\b\b\b\b\b\b\b\b\b\b\b\b\b\b\b\b\b\b\b\b\b\b\b\b\b\b\b\b\b\b\b\b\b\b\b\b\b\b\b\b\b\b\b\b\r6/6 [==============================] - 0s 72ms/step - loss: 0.0041 - accuracy: 1.0000 - lr: 4.3047e-04\n",
            "Epoch 84/100\n",
            "5/6 [========================>.....] - ETA: 0s - loss: 0.0025 - accuracy: 1.0000"
          ]
        },
        {
          "output_type": "stream",
          "name": "stderr",
          "text": [
            "WARNING:tensorflow:Early stopping conditioned on metric `val_loss` which is not available. Available metrics are: loss,accuracy\n"
          ]
        },
        {
          "output_type": "stream",
          "name": "stdout",
          "text": [
            "\b\b\b\b\b\b\b\b\b\b\b\b\b\b\b\b\b\b\b\b\b\b\b\b\b\b\b\b\b\b\b\b\b\b\b\b\b\b\b\b\b\b\b\b\b\b\b\b\b\b\b\b\b\b\b\b\b\b\b\b\b\b\b\b\b\b\b\b\b\b\b\b\b\b\b\b\b\b\b\b\r6/6 [==============================] - 0s 58ms/step - loss: 0.0026 - accuracy: 1.0000 - lr: 4.3047e-04\n",
            "Epoch 85/100\n",
            "6/6 [==============================] - ETA: 0s - loss: 0.0039 - accuracy: 1.0000"
          ]
        },
        {
          "output_type": "stream",
          "name": "stderr",
          "text": [
            "WARNING:tensorflow:Early stopping conditioned on metric `val_loss` which is not available. Available metrics are: loss,accuracy\n"
          ]
        },
        {
          "output_type": "stream",
          "name": "stdout",
          "text": [
            "\b\b\b\b\b\b\b\b\b\b\b\b\b\b\b\b\b\b\b\b\b\b\b\b\b\b\b\b\b\b\b\b\b\b\b\b\b\b\b\b\b\b\b\b\b\b\b\b\b\b\b\b\b\b\b\b\b\b\b\b\b\b\b\b\b\b\b\b\b\b\b\b\b\b\b\b\b\b\b\b\r6/6 [==============================] - 0s 54ms/step - loss: 0.0039 - accuracy: 1.0000 - lr: 4.3047e-04\n",
            "Epoch 86/100\n",
            "6/6 [==============================] - ETA: 0s - loss: 0.0075 - accuracy: 1.0000"
          ]
        },
        {
          "output_type": "stream",
          "name": "stderr",
          "text": [
            "WARNING:tensorflow:Early stopping conditioned on metric `val_loss` which is not available. Available metrics are: loss,accuracy\n"
          ]
        },
        {
          "output_type": "stream",
          "name": "stdout",
          "text": [
            "\b\b\b\b\b\b\b\b\b\b\b\b\b\b\b\b\b\b\b\b\b\b\b\b\b\b\b\b\b\b\b\b\b\b\b\b\b\b\b\b\b\b\b\b\b\b\b\b\b\b\b\b\b\b\b\b\b\b\b\b\b\b\b\b\b\b\b\b\b\b\b\b\b\b\b\b\b\b\b\b\r6/6 [==============================] - 0s 56ms/step - loss: 0.0075 - accuracy: 1.0000 - lr: 4.3047e-04\n",
            "Epoch 87/100\n",
            "6/6 [==============================] - ETA: 0s - loss: 0.0044 - accuracy: 1.0000"
          ]
        },
        {
          "output_type": "stream",
          "name": "stderr",
          "text": [
            "WARNING:tensorflow:Early stopping conditioned on metric `val_loss` which is not available. Available metrics are: loss,accuracy\n"
          ]
        },
        {
          "output_type": "stream",
          "name": "stdout",
          "text": [
            "\b\b\b\b\b\b\b\b\b\b\b\b\b\b\b\b\b\b\b\b\b\b\b\b\b\b\b\b\b\b\b\b\b\b\b\b\b\b\b\b\b\b\b\b\b\b\b\b\b\b\b\b\b\b\b\b\b\b\b\b\b\b\b\b\b\b\b\b\b\b\b\b\b\b\b\b\b\b\b\b\r6/6 [==============================] - 0s 79ms/step - loss: 0.0044 - accuracy: 1.0000 - lr: 4.3047e-04\n",
            "Epoch 88/100\n",
            "6/6 [==============================] - ETA: 0s - loss: 0.0032 - accuracy: 1.0000"
          ]
        },
        {
          "output_type": "stream",
          "name": "stderr",
          "text": [
            "WARNING:tensorflow:Early stopping conditioned on metric `val_loss` which is not available. Available metrics are: loss,accuracy\n"
          ]
        },
        {
          "output_type": "stream",
          "name": "stdout",
          "text": [
            "\b\b\b\b\b\b\b\b\b\b\b\b\b\b\b\b\b\b\b\b\b\b\b\b\b\b\b\b\b\b\b\b\b\b\b\b\b\b\b\b\b\b\b\b\b\b\b\b\b\b\b\b\b\b\b\b\b\b\b\b\b\b\b\b\b\b\b\b\b\b\b\b\b\b\b\b\b\b\b\b\r6/6 [==============================] - 0s 80ms/step - loss: 0.0032 - accuracy: 1.0000 - lr: 4.3047e-04\n",
            "Epoch 89/100\n",
            "6/6 [==============================] - ETA: 0s - loss: 0.0030 - accuracy: 1.0000"
          ]
        },
        {
          "output_type": "stream",
          "name": "stderr",
          "text": [
            "WARNING:tensorflow:Early stopping conditioned on metric `val_loss` which is not available. Available metrics are: loss,accuracy\n"
          ]
        },
        {
          "output_type": "stream",
          "name": "stdout",
          "text": [
            "\b\b\b\b\b\b\b\b\b\b\b\b\b\b\b\b\b\b\b\b\b\b\b\b\b\b\b\b\b\b\b\b\b\b\b\b\b\b\b\b\b\b\b\b\b\b\b\b\b\b\b\b\b\b\b\b\b\b\b\b\b\b\b\b\b\b\b\b\b\b\b\b\b\b\b\b\b\b\b\b\r6/6 [==============================] - 0s 70ms/step - loss: 0.0030 - accuracy: 1.0000 - lr: 4.3047e-04\n",
            "Epoch 90/100\n",
            "6/6 [==============================] - ETA: 0s - loss: 0.0035 - accuracy: 1.0000"
          ]
        },
        {
          "output_type": "stream",
          "name": "stderr",
          "text": [
            "WARNING:tensorflow:Early stopping conditioned on metric `val_loss` which is not available. Available metrics are: loss,accuracy\n"
          ]
        },
        {
          "output_type": "stream",
          "name": "stdout",
          "text": [
            "\b\b\b\b\b\b\b\b\b\b\b\b\b\b\b\b\b\b\b\b\b\b\b\b\b\b\b\b\b\b\b\b\b\b\b\b\b\b\b\b\b\b\b\b\b\b\b\b\b\b\b\b\b\b\b\b\b\b\b\b\b\b\b\b\b\b\b\b\b\b\b\b\b\b\b\b\b\b\b\b\r6/6 [==============================] - 0s 66ms/step - loss: 0.0035 - accuracy: 1.0000 - lr: 4.3047e-04\n",
            "Epoch 91/100\n",
            "6/6 [==============================] - ETA: 0s - loss: 0.0035 - accuracy: 1.0000"
          ]
        },
        {
          "output_type": "stream",
          "name": "stderr",
          "text": [
            "WARNING:tensorflow:Early stopping conditioned on metric `val_loss` which is not available. Available metrics are: loss,accuracy\n"
          ]
        },
        {
          "output_type": "stream",
          "name": "stdout",
          "text": [
            "\b\b\b\b\b\b\b\b\b\b\b\b\b\b\b\b\b\b\b\b\b\b\b\b\b\b\b\b\b\b\b\b\b\b\b\b\b\b\b\b\b\b\b\b\b\b\b\b\b\b\b\b\b\b\b\b\b\b\b\b\b\b\b\b\b\b\b\b\b\b\b\b\b\b\b\b\b\b\b\b\r6/6 [==============================] - 0s 63ms/step - loss: 0.0035 - accuracy: 1.0000 - lr: 3.8742e-04\n",
            "Epoch 92/100\n",
            "6/6 [==============================] - ETA: 0s - loss: 0.0036 - accuracy: 1.0000"
          ]
        },
        {
          "output_type": "stream",
          "name": "stderr",
          "text": [
            "WARNING:tensorflow:Early stopping conditioned on metric `val_loss` which is not available. Available metrics are: loss,accuracy\n"
          ]
        },
        {
          "output_type": "stream",
          "name": "stdout",
          "text": [
            "\b\b\b\b\b\b\b\b\b\b\b\b\b\b\b\b\b\b\b\b\b\b\b\b\b\b\b\b\b\b\b\b\b\b\b\b\b\b\b\b\b\b\b\b\b\b\b\b\b\b\b\b\b\b\b\b\b\b\b\b\b\b\b\b\b\b\b\b\b\b\b\b\b\b\b\b\b\b\b\b\r6/6 [==============================] - 0s 64ms/step - loss: 0.0036 - accuracy: 1.0000 - lr: 3.8742e-04\n",
            "Epoch 93/100\n",
            "6/6 [==============================] - ETA: 0s - loss: 0.0040 - accuracy: 1.0000"
          ]
        },
        {
          "output_type": "stream",
          "name": "stderr",
          "text": [
            "WARNING:tensorflow:Early stopping conditioned on metric `val_loss` which is not available. Available metrics are: loss,accuracy\n"
          ]
        },
        {
          "output_type": "stream",
          "name": "stdout",
          "text": [
            "\b\b\b\b\b\b\b\b\b\b\b\b\b\b\b\b\b\b\b\b\b\b\b\b\b\b\b\b\b\b\b\b\b\b\b\b\b\b\b\b\b\b\b\b\b\b\b\b\b\b\b\b\b\b\b\b\b\b\b\b\b\b\b\b\b\b\b\b\b\b\b\b\b\b\b\b\b\b\b\b\r6/6 [==============================] - 0s 68ms/step - loss: 0.0040 - accuracy: 1.0000 - lr: 3.8742e-04\n",
            "Epoch 94/100\n",
            "6/6 [==============================] - ETA: 0s - loss: 0.0113 - accuracy: 1.0000"
          ]
        },
        {
          "output_type": "stream",
          "name": "stderr",
          "text": [
            "WARNING:tensorflow:Early stopping conditioned on metric `val_loss` which is not available. Available metrics are: loss,accuracy\n"
          ]
        },
        {
          "output_type": "stream",
          "name": "stdout",
          "text": [
            "\b\b\b\b\b\b\b\b\b\b\b\b\b\b\b\b\b\b\b\b\b\b\b\b\b\b\b\b\b\b\b\b\b\b\b\b\b\b\b\b\b\b\b\b\b\b\b\b\b\b\b\b\b\b\b\b\b\b\b\b\b\b\b\b\b\b\b\b\b\b\b\b\b\b\b\b\b\b\b\b\r6/6 [==============================] - 0s 63ms/step - loss: 0.0113 - accuracy: 1.0000 - lr: 3.8742e-04\n",
            "Epoch 95/100\n",
            "6/6 [==============================] - ETA: 0s - loss: 0.0069 - accuracy: 1.0000"
          ]
        },
        {
          "output_type": "stream",
          "name": "stderr",
          "text": [
            "WARNING:tensorflow:Early stopping conditioned on metric `val_loss` which is not available. Available metrics are: loss,accuracy\n"
          ]
        },
        {
          "output_type": "stream",
          "name": "stdout",
          "text": [
            "\b\b\b\b\b\b\b\b\b\b\b\b\b\b\b\b\b\b\b\b\b\b\b\b\b\b\b\b\b\b\b\b\b\b\b\b\b\b\b\b\b\b\b\b\b\b\b\b\b\b\b\b\b\b\b\b\b\b\b\b\b\b\b\b\b\b\b\b\b\b\b\b\b\b\b\b\b\b\b\b\r6/6 [==============================] - 0s 74ms/step - loss: 0.0069 - accuracy: 1.0000 - lr: 3.8742e-04\n",
            "Epoch 96/100\n",
            "6/6 [==============================] - ETA: 0s - loss: 0.0060 - accuracy: 1.0000"
          ]
        },
        {
          "output_type": "stream",
          "name": "stderr",
          "text": [
            "WARNING:tensorflow:Early stopping conditioned on metric `val_loss` which is not available. Available metrics are: loss,accuracy\n"
          ]
        },
        {
          "output_type": "stream",
          "name": "stdout",
          "text": [
            "\b\b\b\b\b\b\b\b\b\b\b\b\b\b\b\b\b\b\b\b\b\b\b\b\b\b\b\b\b\b\b\b\b\b\b\b\b\b\b\b\b\b\b\b\b\b\b\b\b\b\b\b\b\b\b\b\b\b\b\b\b\b\b\b\b\b\b\b\b\b\b\b\b\b\b\b\b\b\b\b\r6/6 [==============================] - 1s 92ms/step - loss: 0.0060 - accuracy: 1.0000 - lr: 3.8742e-04\n",
            "Epoch 97/100\n",
            "6/6 [==============================] - ETA: 0s - loss: 0.0060 - accuracy: 1.0000"
          ]
        },
        {
          "output_type": "stream",
          "name": "stderr",
          "text": [
            "WARNING:tensorflow:Early stopping conditioned on metric `val_loss` which is not available. Available metrics are: loss,accuracy\n"
          ]
        },
        {
          "output_type": "stream",
          "name": "stdout",
          "text": [
            "\b\b\b\b\b\b\b\b\b\b\b\b\b\b\b\b\b\b\b\b\b\b\b\b\b\b\b\b\b\b\b\b\b\b\b\b\b\b\b\b\b\b\b\b\b\b\b\b\b\b\b\b\b\b\b\b\b\b\b\b\b\b\b\b\b\b\b\b\b\b\b\b\b\b\b\b\b\b\b\b\r6/6 [==============================] - 1s 103ms/step - loss: 0.0060 - accuracy: 1.0000 - lr: 3.8742e-04\n",
            "Epoch 98/100\n",
            "6/6 [==============================] - ETA: 0s - loss: 0.0043 - accuracy: 1.0000"
          ]
        },
        {
          "output_type": "stream",
          "name": "stderr",
          "text": [
            "WARNING:tensorflow:Early stopping conditioned on metric `val_loss` which is not available. Available metrics are: loss,accuracy\n"
          ]
        },
        {
          "output_type": "stream",
          "name": "stdout",
          "text": [
            "\b\b\b\b\b\b\b\b\b\b\b\b\b\b\b\b\b\b\b\b\b\b\b\b\b\b\b\b\b\b\b\b\b\b\b\b\b\b\b\b\b\b\b\b\b\b\b\b\b\b\b\b\b\b\b\b\b\b\b\b\b\b\b\b\b\b\b\b\b\b\b\b\b\b\b\b\b\b\b\b\r6/6 [==============================] - 1s 113ms/step - loss: 0.0043 - accuracy: 1.0000 - lr: 3.8742e-04\n",
            "Epoch 99/100\n",
            "6/6 [==============================] - ETA: 0s - loss: 0.0039 - accuracy: 1.0000"
          ]
        },
        {
          "output_type": "stream",
          "name": "stderr",
          "text": [
            "WARNING:tensorflow:Early stopping conditioned on metric `val_loss` which is not available. Available metrics are: loss,accuracy\n"
          ]
        },
        {
          "output_type": "stream",
          "name": "stdout",
          "text": [
            "\b\b\b\b\b\b\b\b\b\b\b\b\b\b\b\b\b\b\b\b\b\b\b\b\b\b\b\b\b\b\b\b\b\b\b\b\b\b\b\b\b\b\b\b\b\b\b\b\b\b\b\b\b\b\b\b\b\b\b\b\b\b\b\b\b\b\b\b\b\b\b\b\b\b\b\b\b\b\b\b\r6/6 [==============================] - 1s 104ms/step - loss: 0.0039 - accuracy: 1.0000 - lr: 3.8742e-04\n",
            "Epoch 100/100\n",
            "6/6 [==============================] - ETA: 0s - loss: 0.0035 - accuracy: 1.0000"
          ]
        },
        {
          "output_type": "stream",
          "name": "stderr",
          "text": [
            "WARNING:tensorflow:Early stopping conditioned on metric `val_loss` which is not available. Available metrics are: loss,accuracy\n"
          ]
        },
        {
          "output_type": "stream",
          "name": "stdout",
          "text": [
            "\b\b\b\b\b\b\b\b\b\b\b\b\b\b\b\b\b\b\b\b\b\b\b\b\b\b\b\b\b\b\b\b\b\b\b\b\b\b\b\b\b\b\b\b\b\b\b\b\b\b\b\b\b\b\b\b\b\b\b\b\b\b\b\b\b\b\b\b\b\b\b\b\b\b\b\b\b\b\b\b\r6/6 [==============================] - 1s 108ms/step - loss: 0.0035 - accuracy: 1.0000 - lr: 3.8742e-04\n"
          ]
        }
      ]
    },
    {
      "cell_type": "code",
      "source": [
        "# Test the model\n",
        "count = 0\n",
        "test_inputs = np.zeros((7,15236))\n",
        "test_labels = []\n",
        "k = 0\n",
        "base_path = '/content/drive/MyDrive/dataset/testing/' # 'dataset/testing/'\n",
        "for song_folder in os.listdir(base_path):\n",
        "    # song_folder will be used as class name/label\n",
        "    for song in os.listdir(base_path+song_folder+'/'):\n",
        "        song_path = base_path+song_folder+'/'+song\n",
        "        signal,sr = librosa.load(song_path)\n",
        "        signal = np.resize(signal,600000)\n",
        "        print(song_path)\n",
        "        mfcc = librosa.feature.mfcc(y=signal,n_mfcc=13,sr=sr)\n",
        "        test_inputs[count] = mfcc.flatten()\n",
        "        test_labels.append(label_map[song_folder])\n",
        "        count+=1\n",
        "    k += 1\n",
        "print(count)"
      ],
      "metadata": {
        "colab": {
          "base_uri": "https://localhost:8080/"
        },
        "id": "cGo9dqdxj9ob",
        "outputId": "8de78324-e3e8-40f3-e3c7-61be684fa80a"
      },
      "execution_count": 41,
      "outputs": [
        {
          "output_type": "stream",
          "name": "stdout",
          "text": [
            "/content/drive/MyDrive/dataset/testing/dancing/out1000.mp3\n",
            "/content/drive/MyDrive/dataset/testing/shadow-lady/out3006.mp3\n",
            "/content/drive/MyDrive/dataset/testing/dadada/out3000.mp3\n",
            "/content/drive/MyDrive/dataset/testing/metamorphosis/out3001.mp3\n",
            "/content/drive/MyDrive/dataset/testing/La-Espada/out2005.mp3\n",
            "/content/drive/MyDrive/dataset/testing/somebody-i-used-to-know/out2002.mp3\n",
            "/content/drive/MyDrive/dataset/testing/georgian-disco/out3004.mp3\n",
            "7\n"
          ]
        }
      ]
    },
    {
      "cell_type": "code",
      "source": [
        "print(test_labels)\n",
        "print(label_map)\n",
        "print(test_inputs)"
      ],
      "metadata": {
        "colab": {
          "base_uri": "https://localhost:8080/"
        },
        "id": "g6qYfg1Tms9u",
        "outputId": "4dc518d9-2205-47d5-adf1-315d23fbecb3"
      },
      "execution_count": 46,
      "outputs": [
        {
          "output_type": "stream",
          "name": "stdout",
          "text": [
            "[1, 2, 3, 4, 5, 6, 0]\n",
            "{'georgian-disco': 0, 'dancing': 1, 'shadow-lady': 2, 'dadada': 3, 'metamorphosis': 4, 'La-Espada': 5, 'somebody-i-used-to-know': 6}\n",
            "[[-500.91638184 -500.91638184 -500.91638184 ...    2.18905902\n",
            "     4.55306816    8.47633171]\n",
            " [-156.54103088  -23.85643768    8.63148499 ...    8.35061646\n",
            "    10.42414093   10.96217728]\n",
            " [-470.37850952 -470.37850952 -470.37850952 ...    0.62328279\n",
            "    -3.79188156   -2.83666897]\n",
            " ...\n",
            " [-252.75135803 -124.22677612  -84.57501221 ...    5.97939777\n",
            "     5.83881283    6.95138693]\n",
            " [-381.34884644 -267.24768066 -244.50779724 ...    5.72488737\n",
            "     5.74004173    2.49608755]\n",
            " [-162.91990662  -30.10445976  -19.05974579 ...  -15.43828392\n",
            "   -17.83652115  -15.47221184]]\n"
          ]
        }
      ]
    },
    {
      "cell_type": "code",
      "source": [
        "print(\"Evaluate on test data\")\n",
        "results = model.evaluate(test_inputs, np.array(test_labels), batch_size=7)\n",
        "#print(\"test loss, test acc:\", results)\n"
      ],
      "metadata": {
        "colab": {
          "base_uri": "https://localhost:8080/"
        },
        "id": "k-3QEpYylD8f",
        "outputId": "70824b3d-e620-4799-f560-dad3dc86ddff"
      },
      "execution_count": 50,
      "outputs": [
        {
          "output_type": "stream",
          "name": "stdout",
          "text": [
            "Evaluate on test data\n",
            "1/1 [==============================] - 0s 31ms/step - loss: 0.2307 - accuracy: 1.0000\n"
          ]
        }
      ]
    }
  ]
}