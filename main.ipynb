{
 "cells": [
  {
   "cell_type": "code",
   "execution_count": 3,
   "id": "8adaaa76-81f3-4aeb-9079-6a7078b6c7ef",
   "metadata": {},
   "outputs": [],
   "source": [
    "import numpy as np\n",
    "import librosa\n",
    "import librosa.display\n",
    "import IPython.display as ipd\n",
    "import matplotlib.pyplot as plt\n",
    "import os"
   ]
  },
  {
   "cell_type": "code",
   "execution_count": 18,
   "id": "68016178-71a2-4486-a94f-5aebc41197e0",
   "metadata": {},
   "outputs": [
    {
     "name": "stdout",
     "output_type": "stream",
     "text": [
      "dataset/training/somebody-i-used-to-know/Gotye performing Somebody That I Used To Know Live on KCRW.mp3\n",
      "(5454848,) 22050\n",
      "(13, 10655)\n"
     ]
    }
   ],
   "source": [
    "inputs = np.zeros((32,3))\n",
    "count = 0\n",
    "for song_folder in os.listdir('dataset/training/'):\n",
    "    # song_folder will be used as class name/label\n",
    "    for song in os.listdir('dataset/training/'+song_folder+'/'):\n",
    "        song_path = 'dataset/training/'+song_folder+'/'+song\n",
    "        signal,sr = librosa.load(song_path)\n",
    "        print(song_path)\n",
    "        print(signal.shape,sr)\n",
    "        mfcc = librosa.feature.mfcc(y=signal,n_mfcc=13,sr=sr)\n",
    "        print(mfcc.shape)\n",
    "        break\n",
    "        #print(song_path)\n",
    "        count+=1\n",
    "    break\n",
    "#print(count)"
   ]
  },
  {
   "cell_type": "code",
   "execution_count": null,
   "id": "b564b027-fdd8-4435-ae9a-c227041a1235",
   "metadata": {},
   "outputs": [],
   "source": []
  }
 ],
 "metadata": {
  "kernelspec": {
   "display_name": "Python 3 (ipykernel)",
   "language": "python",
   "name": "python3"
  },
  "language_info": {
   "codemirror_mode": {
    "name": "ipython",
    "version": 3
   },
   "file_extension": ".py",
   "mimetype": "text/x-python",
   "name": "python",
   "nbconvert_exporter": "python",
   "pygments_lexer": "ipython3",
   "version": "3.11.8"
  }
 },
 "nbformat": 4,
 "nbformat_minor": 5
}
